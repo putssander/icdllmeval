{
 "cells": [
  {
   "cell_type": "code",
   "execution_count": null,
   "metadata": {},
   "outputs": [],
   "source": [
    "\n",
    "    \n",
    "\n",
    "def prompt_ner(self, txt, substrings):\n",
    "\n",
    "        # Set up a parser + inject instructions into the prompt template.\n",
    "        parser = PydanticOutputParser(pydantic_object=IcdList)\n",
    "\n",
    "        format_instructions = parser.get_format_instructions()\n",
    "        # coding_instructions = \"What is the correct ICD-10 code for the substring. If you think the correct code is not listed, provide your best code suggestion in the json field 'code', always follow the format instructions.\"\n",
    "        behaviour_instructions = \"You are an expert in medical ICD coding, teaching peers the highest level of coding possible.\"\n",
    "        system_message_prompt = SystemMessagePromptTemplate.from_template(\"{behaviour_instructions} {format_instructions}\\n\")\n",
    "        human_message_prompt = HumanMessagePromptTemplate.from_template(\"For each of items in the lists, add additional information in Spanish to preform an medical code lookup for '{substring}', use {format_instructions} in markdown! Extract from the following text {txt}. The number of list items of the output should match the input, \")\n",
    "\n",
    "        chat_prompt = ChatPromptTemplate(\n",
    "            messages=[system_message_prompt,human_message_prompt], \n",
    "            input_variables=[\"substring\", \"txt\"],\n",
    "            partial_variables={\"behaviour_instructions\": behaviour_instructions, \"format_instructions\": format_instructions,}\n",
    "        )\n",
    "        _input = chat_prompt.format_prompt( substring=substrings, txt=txt)\n",
    "        logging.info(_input.to_messages())\n",
    "        output = self.chat(_input.to_messages())\n",
    "        logging.info(output.content)\n",
    "        print(output.content)\n",
    "        try:\n",
    "            json_substrings = parser.parse(output.content)\n",
    "            print(json_substrings)\n",
    "        except Exception as e: \n",
    "            logging.error(e)            \n",
    "        return json_substrings"
   ]
  }
 ],
 "metadata": {
  "language_info": {
   "name": "python"
  },
  "orig_nbformat": 4
 },
 "nbformat": 4,
 "nbformat_minor": 2
}
