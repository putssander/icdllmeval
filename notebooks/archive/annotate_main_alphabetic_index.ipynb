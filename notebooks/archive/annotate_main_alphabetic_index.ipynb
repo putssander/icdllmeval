{
 "cells": [
  {
   "cell_type": "markdown",
   "metadata": {},
   "source": [
    "unused method for annotating main term using ICD alpabetic index"
   ]
  },
  {
   "cell_type": "code",
   "execution_count": 1,
   "metadata": {},
   "outputs": [
    {
     "name": "stdout",
     "output_type": "stream",
     "text": [
      "--2023-06-29 10:51:31--  https://www.cms.gov/files/zip/2023-code-tables-tabular-and-index-updated-01/11/2023.zip\n",
      "Resolving www.cms.gov (www.cms.gov)... ::ffff:23.222.64.83, 23.222.64.83, 2a02:26f0:fe00:394::28a, ...\n",
      "Connecting to www.cms.gov (www.cms.gov)|::ffff:23.222.64.83|:443... connected.\n",
      "HTTP request sent, awaiting response... 200 OK\n",
      "Length: 22548628 (22M) [application/zip]\n",
      "Saving to: ‘2023.zip’\n",
      "\n",
      "2023.zip            100%[===================>]  21.50M  7.16MB/s    in 3.0s    \n",
      "\n",
      "2023-06-29 10:51:35 (7.16 MB/s) - ‘2023.zip’ saved [22548628/22548628]\n",
      "\n"
     ]
    }
   ],
   "source": [
    "!wget https://www.cms.gov/files/zip/2023-code-tables-tabular-and-index-updated-01/11/2023.zip"
   ]
  },
  {
   "cell_type": "code",
   "execution_count": 2,
   "metadata": {},
   "outputs": [
    {
     "name": "stdout",
     "output_type": "stream",
     "text": [
      "Archive:  2023.zip\n",
      "  inflating: 2023-code-tables-tabular-and-index-updated-01/icd10cm_drug_2023.pdf  \n",
      "  inflating: 2023-code-tables-tabular-and-index-updated-01/icd10cm_drug_2023.xml  \n",
      "  inflating: 2023-code-tables-tabular-and-index-updated-01/icd10cm_drug_neoplasm.xsd  \n",
      "  inflating: 2023-code-tables-tabular-and-index-updated-01/icd10cm_eindex_2023.pdf  \n",
      "  inflating: 2023-code-tables-tabular-and-index-updated-01/icd10cm_eindex_2023.xml  \n",
      "  inflating: 2023-code-tables-tabular-and-index-updated-01/icd10cm_index.xsd  \n",
      "  inflating: 2023-code-tables-tabular-and-index-updated-01/icd10cm_index_2023.pdf  \n",
      "  inflating: 2023-code-tables-tabular-and-index-updated-01/icd10cm_index_2023.xml  \n",
      "  inflating: 2023-code-tables-tabular-and-index-updated-01/icd10cm_neoplasm_2023.pdf  \n",
      "  inflating: 2023-code-tables-tabular-and-index-updated-01/icd10cm_neoplasm_2023.xml  \n",
      "  inflating: 2023-code-tables-tabular-and-index-updated-01/icd10cm_tabular.xsd  \n",
      "  inflating: 2023-code-tables-tabular-and-index-updated-01/icd10cm_tabular_2023.pdf  \n",
      "  inflating: 2023-code-tables-tabular-and-index-updated-01/icd10cm_tabular_2023.xml  \n"
     ]
    }
   ],
   "source": [
    "!unzip 2023.zip -d 2023-code-tables-tabular-and-index-updated-01"
   ]
  },
  {
   "cell_type": "code",
   "execution_count": 24,
   "metadata": {},
   "outputs": [],
   "source": [
    "from bs4 import BeautifulSoup\n",
    "with open('2023-code-tables-tabular-and-index-updated-01/icd10cm_index_2023.xml', 'r') as f:\n",
    "    data = f.read()\n",
    "bs_data = BeautifulSoup(data, \"xml\")\n"
   ]
  },
  {
   "cell_type": "code",
   "execution_count": 54,
   "metadata": {},
   "outputs": [
    {
     "name": "stdout",
     "output_type": "stream",
     "text": [
      "{\n",
      "  \"D49.6\": [\n",
      "    [\n",
      "      \"Degeneration, degenerative\",\n",
      "      [\n",
      "        \"Degeneration, degenerative\",\n",
      "        \"brain(cortical) (progressive)\",\n",
      "        \"in\",\n",
      "        \"neoplastic disease\"\n",
      "      ]\n",
      "    ]\n",
      "  ]\n",
      "}\n"
     ]
    }
   ],
   "source": [
    "import json\n",
    "\n",
    "def get_main_terms(code):\n",
    "    items = bs_data.find_all(lambda tag: tag.name == \"code\" and code in tag.text)\n",
    "    result = [get_main_term(item) for item in items]\n",
    "    return {code: result}\n",
    "\n",
    "def get_main_term(item):\n",
    "    parent = item.parent\n",
    "    children = []\n",
    "    while(parent):\n",
    "        children.insert(0, parent.title.text)\n",
    "        if parent.name == \"mainTerm\":\n",
    "            return parent.title.text, children          \n",
    "        else:\n",
    "            parent = parent.parent\n",
    "    return None, children\n",
    "\n",
    "print(json.dumps(get_main_terms(\"D49.6\"), indent=2))"
   ]
  }
 ],
 "metadata": {
  "kernelspec": {
   "display_name": "base",
   "language": "python",
   "name": "python3"
  },
  "language_info": {
   "codemirror_mode": {
    "name": "ipython",
    "version": 3
   },
   "file_extension": ".py",
   "mimetype": "text/x-python",
   "name": "python",
   "nbconvert_exporter": "python",
   "pygments_lexer": "ipython3",
   "version": "3.10.5"
  },
  "orig_nbformat": 4
 },
 "nbformat": 4,
 "nbformat_minor": 2
}
