{
 "cells": [
  {
   "cell_type": "code",
   "execution_count": 11,
   "metadata": {},
   "outputs": [],
   "source": [
    "import pandas as pd"
   ]
  },
  {
   "cell_type": "code",
   "execution_count": 12,
   "metadata": {},
   "outputs": [],
   "source": [
    "path_predictions = \"gpt-codes/codiesp-gpt4-fewshot-0-19.tsv\"\n",
    "path_gold = \"codiesp/final_dataset_v4_to_publish/dev/devX.tsv\"\n",
    "\n",
    "header_X = [\"FILE\",\"TYPE\", \"CODE\", \"SUBSTRING\", \"OFFSETS\"]\n"
   ]
  },
  {
   "cell_type": "code",
   "execution_count": 13,
   "metadata": {},
   "outputs": [
    {
     "name": "stdout",
     "output_type": "stream",
     "text": [
      "                        FILE           TYPE     CODE  \\\n",
      "0  S0004-06142005000900016-1  PROCEDIMIENTO  bt41zzz   \n",
      "1  S0004-06142005000900016-1  PROCEDIMIENTO     ct13   \n",
      "2  S0004-06142005000900016-1    DIAGNOSTICO   q62.11   \n",
      "3  S0004-06142005000900016-1    DIAGNOSTICO   n28.89   \n",
      "4  S0004-06142005000900016-1    DIAGNOSTICO    n39.0   \n",
      "\n",
      "                                     SUBSTRING          OFFSETS  \n",
      "0                      ecografía renal derecha  307 316;348 361  \n",
      "1                            gammagrafía renal          739 756  \n",
      "2  estenosis en la unión pieloureteral derecha          540 583  \n",
      "3                        ectasia pielocalicial          326 347  \n",
      "4              infecciones del tracto urinario          198 229  \n",
      "                        FILE           TYPE     CODE  \\\n",
      "0  S0004-06142005000900016-1    DIAGNOSTICO    k26.9   \n",
      "1  S0004-06142005000900016-1    DIAGNOSTICO    k59.0   \n",
      "2  S0004-06142005000900016-1    DIAGNOSTICO   r10.31   \n",
      "3  S0004-06142005000900016-1    DIAGNOSTICO   n13.30   \n",
      "4  S0004-06142005000900016-1  PROCEDIMIENTO  bw03zzz   \n",
      "\n",
      "                             SUBSTRING  OFFSETS  \n",
      "0                       ulcus duodenal    37 51  \n",
      "1                        estreñimiento    54 67  \n",
      "2          dolor en fosa renal derecha   85 112  \n",
      "3  ectasia pielocalicial renal derecha  326 361  \n",
      "4                            ecografía  307 316  \n"
     ]
    }
   ],
   "source": [
    "predictions = pd.read_csv(path_predictions, delimiter=\"\\t\", names=header_X)\n",
    "gold = pd.read_csv(path_gold, delimiter=\"\\t\", names=header_X)\n",
    "\n",
    "print(gold.head())\n",
    "print(predictions.head())\n"
   ]
  },
  {
   "cell_type": "code",
   "execution_count": 14,
   "metadata": {},
   "outputs": [
    {
     "name": "stdout",
     "output_type": "stream",
     "text": [
      "['S0004-06142005000900016-1' 'S0004-06142005001000011-1'\n",
      " 'S0004-06142006000200011-1' 'S0004-06142006000500002-3'\n",
      " 'S0004-06142006000500002-4' 'S0004-06142006000600015-1'\n",
      " 'S0004-06142006000700008-1' 'S0004-06142006000900008-1'\n",
      " 'S0004-06142006000900009-1' 'S0004-06142007000600011-1'\n",
      " 'S0004-06142007000700014-1' 'S0004-06142007000700015-1'\n",
      " 'S0004-06142008000100008-1' 'S0004-06142008000300011-1'\n",
      " 'S0004-06142008000300013-1' 'S0004-06142008000400013-1'\n",
      " 'S0004-06142008000500014-1' 'S0004-06142008000500015-1']\n"
     ]
    }
   ],
   "source": [
    "files = predictions[\"FILE\"].unique()\n",
    "print(files)\n"
   ]
  },
  {
   "cell_type": "code",
   "execution_count": 15,
   "metadata": {},
   "outputs": [],
   "source": [
    "gold = gold[gold[\"FILE\"].isin(files)]"
   ]
  },
  {
   "cell_type": "code",
   "execution_count": 16,
   "metadata": {},
   "outputs": [
    {
     "name": "stdout",
     "output_type": "stream",
     "text": [
      "['S0004-06142005000900016-1' 'S0004-06142005001000011-1'\n",
      " 'S0004-06142006000200011-1' 'S0004-06142006000500002-3'\n",
      " 'S0004-06142006000500002-4' 'S0004-06142006000600015-1'\n",
      " 'S0004-06142006000700008-1' 'S0004-06142006000900008-1'\n",
      " 'S0004-06142006000900009-1' 'S0004-06142007000600011-1'\n",
      " 'S0004-06142007000700014-1' 'S0004-06142007000700015-1'\n",
      " 'S0004-06142008000100008-1' 'S0004-06142008000300011-1'\n",
      " 'S0004-06142008000300013-1' 'S0004-06142008000400013-1'\n",
      " 'S0004-06142008000500014-1' 'S0004-06142008000500015-1']\n"
     ]
    }
   ],
   "source": [
    "print(gold[\"FILE\"].unique())"
   ]
  },
  {
   "cell_type": "code",
   "execution_count": 17,
   "metadata": {},
   "outputs": [],
   "source": [
    "def eval_string(gold, predictions, file):\n",
    "    gold_select = gold[gold[\"FILE\"] == file]\n",
    "    predictions_select = predictions[predictions[\"FILE\"] == file]\n",
    "    print(gold_select[\"SUBSTRING\"].unique())\n",
    "    print(predictions_select[\"SUBSTRING\"].unique())"
   ]
  },
  {
   "cell_type": "code",
   "execution_count": 18,
   "metadata": {},
   "outputs": [
    {
     "name": "stdout",
     "output_type": "stream",
     "text": [
      "['cólicos nefríticos de repetición' 'nódulo en testículo izquierdo'\n",
      " 'Fumador' 'testículo derecho con masa' 'ecografía-doppler testicular'\n",
      " 'orquiectomía radical inguinal derecha' 'TAC toraco-abdómino-pélvico'\n",
      " 'Rx de tórax' 'azoospermia' 'biopsia del teste izquierdo'\n",
      " 'atrofia testicular' 'metástasis' 'cólicos nefríticos' 'tumor testicular'\n",
      " 'quiste de epidídimo' 'Uretrotomía' 'neoplasia de testículo'\n",
      " 'biopsia del testículo izquierdo vía inguinal'\n",
      " 'biopsia del testículo izquierdo' 'testículo quiste' 'testículo atrofia'\n",
      " 'criptorquidia bilateral']\n",
      "['atrofia testicular' 'azoospermia total'\n",
      " 'orquiectomía radical inguinal derecha' 'quiste de epidídimo'\n",
      " 'nódulo en testículo izquierdo' 'quiste de cordón izquierdo'\n",
      " 'TAC toraco-abdómino-pélvico' 'Rx de tórax' 'cólicos nefríticos'\n",
      " 'neoplasia de testículo' 'tumor testicular' 'Tumor de células de Leydig'\n",
      " 'esterilidad' 'Ureterolitectomía' 'cólicos nefríticos de repetición'\n",
      " 'tratamiento con LEOC' 'criptorquidia bilateral' 'orquidopexia'\n",
      " 'biopsia del testículo izquierdo vía inguinal']\n"
     ]
    }
   ],
   "source": [
    "eval_string(gold, predictions, files[3])"
   ]
  },
  {
   "cell_type": "code",
   "execution_count": 10,
   "metadata": {},
   "outputs": [
    {
     "name": "stdout",
     "output_type": "stream",
     "text": [
      "Extract the list of substrings that cover the procedures and diagnoses for an input text. The substrings should form the basis for ICD-10 coding. I will give one example. Focus on recall over precision, repeat substrings with multiple occurences. Your output format is only [\"extracted substring\"] form, no other form.\n",
      "    \n",
      "    <!-- begin example -->\n",
      "    Mujer de 29 años con antecedentes de ulcus duodenal y estreñimiento que consulta por dolor en fosa renal derecha compatible con crisis renoureteral. No antecedentes de nefrolitiasis ni hematuria ni infecciones del tracto urinario. En la exploración sólo destaca una puñopercusión renal derecha positiva. La ecografía objetiva ectasia pielocalicial renal derecha con adelgazamiento del parénquima. La UIV muestra una anulación funcional de la unidad renal derecha siendo normal el resto de la exploración. Una pielografía retrograda muestra estenosis en la unión pieloureteral derecha, siendo la citología urinaria selectiva del uréter derecho negativa. Ante la disyuntiva de practicar una cirugía reconstructiva o una exerética se realiza gammagrafía renal que demuestra captación relativa del 33% para el riñón derecho y del 67% para el izquierdo.\n",
      "\n",
      "    Se realiza pieloplastia renal derecha según técnica de Anderson-Hynes.\n",
      "    El examen anatomopatológico de la estenosis de la vía urinaria descubre un hemangioma cavernoso como causante de la obstrucción, el cual no permitía pasar ninguna cánula. El control postoperatorio urográfico a los 3 meses objetiva captación y eliminación renal derecha de contraste con ligero retraso respecto a riñón izquierdo.\n",
      "\n",
      "    La paciente fue dada de alta de consultas externas a los tres años de la cirugía tras haber sido practicados otros dos controles urográficos; 7 años después de la pieloplastia no ha vuelto a consultar por clínica urológica.\n",
      "\n",
      "    Output:\n",
      "    ['ecografía renal derecha' 'gammagrafía renal'\n",
      "    'estenosis en la unión pieloureteral derecha' 'ectasia pielocalicial'\n",
      "    'infecciones del tracto urinario' 'hematuria' 'dolor en fosa renal'\n",
      "    'crisis renoureteral' 'unión pieloureteral estenosis'\n",
      "    'urinaria hemangioma cavernoso' 'estenosis en la unión pieloureteral'\n",
      "    'ulcus duodenal' 'anulación funcional de la unidad renal' 'nefrolitiasis'\n",
      "    'estreñimiento']\n",
      "    <!-- end example -->\n",
      "\n",
      "    test\n",
      "\n",
      "    Output:\n",
      "    \n"
     ]
    }
   ],
   "source": [
    "def get_prompt1(input):\n",
    "    prompt = \"\"\"Extract the list of substrings that cover the procedures and diagnoses for an input text. The substrings should form the basis for ICD-10 coding. I will give one example. Focus on recall over precision, repeat substrings with multiple occurences. Your output format is only [\"extracted substring\"] form, no other form.\n",
    "    \n",
    "    <!-- begin example -->\n",
    "    Mujer de 29 años con antecedentes de ulcus duodenal y estreñimiento que consulta por dolor en fosa renal derecha compatible con crisis renoureteral. No antecedentes de nefrolitiasis ni hematuria ni infecciones del tracto urinario. En la exploración sólo destaca una puñopercusión renal derecha positiva. La ecografía objetiva ectasia pielocalicial renal derecha con adelgazamiento del parénquima. La UIV muestra una anulación funcional de la unidad renal derecha siendo normal el resto de la exploración. Una pielografía retrograda muestra estenosis en la unión pieloureteral derecha, siendo la citología urinaria selectiva del uréter derecho negativa. Ante la disyuntiva de practicar una cirugía reconstructiva o una exerética se realiza gammagrafía renal que demuestra captación relativa del 33% para el riñón derecho y del 67% para el izquierdo.\n",
    "\n",
    "    Se realiza pieloplastia renal derecha según técnica de Anderson-Hynes.\n",
    "    El examen anatomopatológico de la estenosis de la vía urinaria descubre un hemangioma cavernoso como causante de la obstrucción, el cual no permitía pasar ninguna cánula. El control postoperatorio urográfico a los 3 meses objetiva captación y eliminación renal derecha de contraste con ligero retraso respecto a riñón izquierdo.\n",
    "\n",
    "    La paciente fue dada de alta de consultas externas a los tres años de la cirugía tras haber sido practicados otros dos controles urográficos; 7 años después de la pieloplastia no ha vuelto a consultar por clínica urológica.\n",
    "\n",
    "    Output:\n",
    "    ['ecografía renal derecha' 'gammagrafía renal'\n",
    "    'estenosis en la unión pieloureteral derecha' 'ectasia pielocalicial'\n",
    "    'infecciones del tracto urinario' 'hematuria' 'dolor en fosa renal'\n",
    "    'crisis renoureteral' 'unión pieloureteral estenosis'\n",
    "    'urinaria hemangioma cavernoso' 'estenosis en la unión pieloureteral'\n",
    "    'ulcus duodenal' 'anulación funcional de la unidad renal' 'nefrolitiasis'\n",
    "    'estreñimiento']\n",
    "    <!-- end example -->\n",
    "\n",
    "    {input}\n",
    "\n",
    "    Output:\n",
    "    \"\"\".format(input=input)\n",
    "    return prompt\n",
    "\n",
    "print(get_prompt1(input=\"test\"))"
   ]
  },
  {
   "cell_type": "code",
   "execution_count": 19,
   "metadata": {},
   "outputs": [
    {
     "data": {
      "text/html": [
       "<div>\n",
       "<style scoped>\n",
       "    .dataframe tbody tr th:only-of-type {\n",
       "        vertical-align: middle;\n",
       "    }\n",
       "\n",
       "    .dataframe tbody tr th {\n",
       "        vertical-align: top;\n",
       "    }\n",
       "\n",
       "    .dataframe thead th {\n",
       "        text-align: right;\n",
       "    }\n",
       "</style>\n",
       "<table border=\"1\" class=\"dataframe\">\n",
       "  <thead>\n",
       "    <tr style=\"text-align: right;\">\n",
       "      <th></th>\n",
       "      <th>FILE</th>\n",
       "      <th>TYPE</th>\n",
       "      <th>CODE</th>\n",
       "      <th>SUBSTRING</th>\n",
       "      <th>OFFSETS</th>\n",
       "    </tr>\n",
       "  </thead>\n",
       "  <tbody>\n",
       "    <tr>\n",
       "      <th>0</th>\n",
       "      <td>S0004-06142005000900016-1</td>\n",
       "      <td>PROCEDIMIENTO</td>\n",
       "      <td>bt41zzz</td>\n",
       "      <td>ecografía renal derecha</td>\n",
       "      <td>307 316;348 361</td>\n",
       "    </tr>\n",
       "    <tr>\n",
       "      <th>1</th>\n",
       "      <td>S0004-06142005000900016-1</td>\n",
       "      <td>PROCEDIMIENTO</td>\n",
       "      <td>ct13</td>\n",
       "      <td>gammagrafía renal</td>\n",
       "      <td>739 756</td>\n",
       "    </tr>\n",
       "    <tr>\n",
       "      <th>2</th>\n",
       "      <td>S0004-06142005000900016-1</td>\n",
       "      <td>DIAGNOSTICO</td>\n",
       "      <td>q62.11</td>\n",
       "      <td>estenosis en la unión pieloureteral derecha</td>\n",
       "      <td>540 583</td>\n",
       "    </tr>\n",
       "    <tr>\n",
       "      <th>3</th>\n",
       "      <td>S0004-06142005000900016-1</td>\n",
       "      <td>DIAGNOSTICO</td>\n",
       "      <td>n28.89</td>\n",
       "      <td>ectasia pielocalicial</td>\n",
       "      <td>326 347</td>\n",
       "    </tr>\n",
       "    <tr>\n",
       "      <th>4</th>\n",
       "      <td>S0004-06142005000900016-1</td>\n",
       "      <td>DIAGNOSTICO</td>\n",
       "      <td>n39.0</td>\n",
       "      <td>infecciones del tracto urinario</td>\n",
       "      <td>198 229</td>\n",
       "    </tr>\n",
       "  </tbody>\n",
       "</table>\n",
       "</div>"
      ],
      "text/plain": [
       "                        FILE           TYPE     CODE  \\\n",
       "0  S0004-06142005000900016-1  PROCEDIMIENTO  bt41zzz   \n",
       "1  S0004-06142005000900016-1  PROCEDIMIENTO     ct13   \n",
       "2  S0004-06142005000900016-1    DIAGNOSTICO   q62.11   \n",
       "3  S0004-06142005000900016-1    DIAGNOSTICO   n28.89   \n",
       "4  S0004-06142005000900016-1    DIAGNOSTICO    n39.0   \n",
       "\n",
       "                                     SUBSTRING          OFFSETS  \n",
       "0                      ecografía renal derecha  307 316;348 361  \n",
       "1                            gammagrafía renal          739 756  \n",
       "2  estenosis en la unión pieloureteral derecha          540 583  \n",
       "3                        ectasia pielocalicial          326 347  \n",
       "4              infecciones del tracto urinario          198 229  "
      ]
     },
     "execution_count": 19,
     "metadata": {},
     "output_type": "execute_result"
    }
   ],
   "source": [
    "gold.head()"
   ]
  },
  {
   "cell_type": "code",
   "execution_count": null,
   "metadata": {},
   "outputs": [],
   "source": [
    "for "
   ]
  }
 ],
 "metadata": {
  "kernelspec": {
   "display_name": "base",
   "language": "python",
   "name": "python3"
  },
  "language_info": {
   "codemirror_mode": {
    "name": "ipython",
    "version": 3
   },
   "file_extension": ".py",
   "mimetype": "text/x-python",
   "name": "python",
   "nbconvert_exporter": "python",
   "pygments_lexer": "ipython3",
   "version": "3.8.10"
  },
  "orig_nbformat": 4
 },
 "nbformat": 4,
 "nbformat_minor": 2
}
