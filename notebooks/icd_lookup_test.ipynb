{
 "cells": [
  {
   "cell_type": "code",
   "execution_count": 1,
   "metadata": {},
   "outputs": [
    {
     "name": "stdout",
     "output_type": "stream",
     "text": [
      "['/home/jovyan/work/icdllmeval/notebooks', '/opt/conda/lib/python310.zip', '/opt/conda/lib/python3.10', '/opt/conda/lib/python3.10/lib-dynload', '', '/opt/conda/lib/python3.10/site-packages', '/home/jovyan/work/icdllmeval/src']\n"
     ]
    }
   ],
   "source": [
    "import sys, os\n",
    "import json\n",
    "\n",
    "sys.path.append(os.path.join(os.path.dirname(sys.path[0]),'src'))\n",
    "print(sys.path)\n",
    "\n"
   ]
  },
  {
   "cell_type": "code",
   "execution_count": 2,
   "metadata": {},
   "outputs": [],
   "source": [
    "%load_ext autoreload"
   ]
  },
  {
   "cell_type": "code",
   "execution_count": 3,
   "metadata": {},
   "outputs": [],
   "source": [
    "%autoreload 2"
   ]
  },
  {
   "cell_type": "code",
   "execution_count": 4,
   "metadata": {},
   "outputs": [
    {
     "name": "stdout",
     "output_type": "stream",
     "text": [
      "read path_icd_10_cm_codes\n",
      "72184\n",
      "read path_icd_10_pcs_codes\n",
      "77559\n",
      "read codiesp_codes\n",
      "read icd10cm_index\n",
      "lookup dictonaries loaded\n"
     ]
    }
   ],
   "source": [
    "from icdlmmeval.icd_lookup import IcdLookup\n",
    "\n",
    "\n",
    "icd_lookup = IcdLookup()"
   ]
  },
  {
   "cell_type": "code",
   "execution_count": 5,
   "metadata": {},
   "outputs": [
    {
     "name": "stdout",
     "output_type": "stream",
     "text": [
      "Z794\n",
      "Z79.4\n",
      "Long term (current) use of insulin\n",
      "Uso prolongado (actual) de insulina\n"
     ]
    }
   ],
   "source": [
    "description = icd_lookup.get_diangose_description_en(\"z79.4\")\n",
    "description_es = icd_lookup.get_diangose_description_es(\"z79.4\")\n",
    "\n",
    "print(description)\n",
    "print(description_es)"
   ]
  },
  {
   "cell_type": "code",
   "execution_count": 6,
   "metadata": {},
   "outputs": [
    {
     "name": "stdout",
     "output_type": "stream",
     "text": [
      "{\n",
      "  \"R10.817\": [\n",
      "    [\n",
      "      \"Tenderness, abdominal\",\n",
      "      [\n",
      "        \"Tenderness, abdominal\",\n",
      "        \"generalized\"\n",
      "      ]\n",
      "    ]\n",
      "  ]\n",
      "}\n"
     ]
    }
   ],
   "source": [
    "# print(json.dumps(icd_lookup.get_main_terms(\"d49.6\"), indent=2))\n",
    "print(json.dumps(icd_lookup.get_main_terms(\"r10.817\"), indent=2))"
   ]
  }
 ],
 "metadata": {
  "kernelspec": {
   "display_name": "base",
   "language": "python",
   "name": "python3"
  },
  "language_info": {
   "codemirror_mode": {
    "name": "ipython",
    "version": 3
   },
   "file_extension": ".py",
   "mimetype": "text/x-python",
   "name": "python",
   "nbconvert_exporter": "python",
   "pygments_lexer": "ipython3",
   "version": "3.10.5"
  },
  "orig_nbformat": 4
 },
 "nbformat": 4,
 "nbformat_minor": 2
}
