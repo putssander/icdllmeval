{
 "cells": [
  {
   "attachments": {},
   "cell_type": "markdown",
   "metadata": {},
   "source": [
    "From earlier experiments it became clear the performance of ICD coding using GPT-3.5 and GPT-4 is mediocre\n",
    "Should the prompting be improved or is there another cause?\n",
    "Lets validate if GPT can reproduce the ICD-10 code descriptions"
   ]
  },
  {
   "cell_type": "code",
   "execution_count": 2,
   "metadata": {},
   "outputs": [],
   "source": [
    "import pandas as pd"
   ]
  },
  {
   "cell_type": "code",
   "execution_count": 3,
   "metadata": {},
   "outputs": [
    {
     "name": "stdout",
     "output_type": "stream",
     "text": [
      "\u001b[33mWARNING: The directory '/home/jovyan/.cache/pip' or its parent directory is not owned or is not writable by the current user. The cache has been disabled. Check the permissions and owner of that directory. If executing pip with sudo, you should use sudo's -H flag.\u001b[0m\u001b[33m\n",
      "\u001b[0mRequirement already satisfied: promptify in /opt/conda/lib/python3.10/site-packages (0.1.4)\n",
      "Requirement already satisfied: regex==2022.10.31 in /opt/conda/lib/python3.10/site-packages (from promptify) (2022.10.31)\n",
      "Requirement already satisfied: jinja2==2.11.3 in /opt/conda/lib/python3.10/site-packages (from promptify) (2.11.3)\n",
      "Requirement already satisfied: openai==0.25.0 in /opt/conda/lib/python3.10/site-packages (from promptify) (0.25.0)\n",
      "Requirement already satisfied: appdirs==1.4.4 in /opt/conda/lib/python3.10/site-packages (from promptify) (1.4.4)\n",
      "Requirement already satisfied: MarkupSafe>=0.23 in /opt/conda/lib/python3.10/site-packages (from jinja2==2.11.3->promptify) (2.0.1)\n",
      "Requirement already satisfied: openpyxl>=3.0.7 in /opt/conda/lib/python3.10/site-packages (from openai==0.25.0->promptify) (3.1.2)\n",
      "Requirement already satisfied: numpy in /opt/conda/lib/python3.10/site-packages (from openai==0.25.0->promptify) (1.22.4)\n",
      "Requirement already satisfied: pandas-stubs>=1.1.0.11 in /opt/conda/lib/python3.10/site-packages (from openai==0.25.0->promptify) (2.0.1.230501)\n",
      "Requirement already satisfied: pandas>=1.2.3 in /opt/conda/lib/python3.10/site-packages (from openai==0.25.0->promptify) (1.4.3)\n",
      "Requirement already satisfied: tqdm in /opt/conda/lib/python3.10/site-packages (from openai==0.25.0->promptify) (4.64.0)\n",
      "Requirement already satisfied: requests>=2.20 in /opt/conda/lib/python3.10/site-packages (from openai==0.25.0->promptify) (2.28.1)\n",
      "Requirement already satisfied: typing-extensions in /opt/conda/lib/python3.10/site-packages (from openai==0.25.0->promptify) (4.3.0)\n",
      "Requirement already satisfied: et-xmlfile in /opt/conda/lib/python3.10/site-packages (from openpyxl>=3.0.7->openai==0.25.0->promptify) (1.1.0)\n",
      "Requirement already satisfied: python-dateutil>=2.8.1 in /opt/conda/lib/python3.10/site-packages (from pandas>=1.2.3->openai==0.25.0->promptify) (2.8.2)\n",
      "Requirement already satisfied: pytz>=2020.1 in /opt/conda/lib/python3.10/site-packages (from pandas>=1.2.3->openai==0.25.0->promptify) (2022.1)\n",
      "Requirement already satisfied: types-pytz>=2022.1.1 in /opt/conda/lib/python3.10/site-packages (from pandas-stubs>=1.1.0.11->openai==0.25.0->promptify) (2023.3.0.0)\n",
      "Requirement already satisfied: charset-normalizer<3,>=2 in /opt/conda/lib/python3.10/site-packages (from requests>=2.20->openai==0.25.0->promptify) (2.1.0)\n",
      "Requirement already satisfied: idna<4,>=2.5 in /opt/conda/lib/python3.10/site-packages (from requests>=2.20->openai==0.25.0->promptify) (3.3)\n",
      "Requirement already satisfied: certifi>=2017.4.17 in /opt/conda/lib/python3.10/site-packages (from requests>=2.20->openai==0.25.0->promptify) (2022.6.15)\n",
      "Requirement already satisfied: urllib3<1.27,>=1.21.1 in /opt/conda/lib/python3.10/site-packages (from requests>=2.20->openai==0.25.0->promptify) (1.26.10)\n",
      "Requirement already satisfied: six>=1.5 in /opt/conda/lib/python3.10/site-packages (from python-dateutil>=2.8.1->pandas>=1.2.3->openai==0.25.0->promptify) (1.16.0)\n",
      "\u001b[33mWARNING: Running pip as the 'root' user can result in broken permissions and conflicting behaviour with the system package manager. It is recommended to use a virtual environment instead: https://pip.pypa.io/warnings/venv\u001b[0m\u001b[33m\n",
      "\u001b[0m\n",
      "\u001b[1m[\u001b[0m\u001b[34;49mnotice\u001b[0m\u001b[1;39;49m]\u001b[0m\u001b[39;49m A new release of pip is available: \u001b[0m\u001b[31;49m23.0.1\u001b[0m\u001b[39;49m -> \u001b[0m\u001b[32;49m23.1.2\u001b[0m\n",
      "\u001b[1m[\u001b[0m\u001b[34;49mnotice\u001b[0m\u001b[1;39;49m]\u001b[0m\u001b[39;49m To update, run: \u001b[0m\u001b[32;49mpip install --upgrade pip\u001b[0m\n"
     ]
    }
   ],
   "source": [
    "!pip install promptify\n"
   ]
  },
  {
   "cell_type": "code",
   "execution_count": 9,
   "metadata": {},
   "outputs": [
    {
     "name": "stdout",
     "output_type": "stream",
     "text": [
      "2557\n",
      "870\n"
     ]
    }
   ],
   "source": [
    "header = [\"doc\", \"code\"]\n",
    "\n",
    "diagnoses = set()\n",
    "procedures = set()\n",
    "for split in [\"train\", \"dev\", \"test\"]:\n",
    "    df = pd.read_csv(\"codiesp/final_dataset_v4_to_publish/{split}/{split}D.tsv\".format(dir=dir, split=split), delimiter=\"\\t\", names=header)\n",
    "    diagnoses.update(df[\"code\"].unique())\n",
    "    df = pd.read_csv(\"codiesp/final_dataset_v4_to_publish/{split}/{split}P.tsv\".format(dir=dir, split=split), delimiter=\"\\t\", names=header)\n",
    "    procedures.update(df[\"code\"].unique())\n",
    "\n",
    "print(len(diagnoses))\n",
    "print(len(procedures))"
   ]
  },
  {
   "cell_type": "code",
   "execution_count": 10,
   "metadata": {},
   "outputs": [],
   "source": [
    "import random\n",
    "\n",
    "random_sampled_diagnoses = random.sample(list(diagnoses), 100)\n",
    "random_sampled_procedures = random.sample(list(procedures), 100)"
   ]
  },
  {
   "cell_type": "code",
   "execution_count": 11,
   "metadata": {},
   "outputs": [
    {
     "name": "stdout",
     "output_type": "stream",
     "text": [
      "['h05.233', 'q51.811', 'n26.9', 'z82.41', 's23.163', 'b96.89', 'r74.0', 'h21.309', 'a04.7', 'n85.9', 'n41.0', 'h35.349', 'c22.1', 'h53.142', 'n17.0', 'g36.0', 'b59', 'h04.209', 'k31.1', 'l58.9', 'h93.19', 'c53.9', 'e85.4', 'l88', 'i15.9', 's22.49xa', 'k31.9', 'r91.8', 'r04.89', 'g24.5', 'm25.531', 'm54.9', 'z79.4', 'h16.449', 'm27.49', 'c63.8', 'i48.2', 'd72.819', 'z3a.19', 't20.04x', 'b58.2', 'r61', 'r40.2412', 'n05.1', 'm08.961', 'd47.9', 'k56.69', 's06.2x', 'z87.440', 'q62.4', 'h20.05', 'i71.00', 'k57.20', 'f45.29', 'r63.3', 'h50.012', 'r06.09', 'l93.0', 'm70.51', 'h35.62', 'k50.00', 'i87.2', 'm43.6', 'd37.8', 'a01.00', 'h01.8', 'q18.0', 'm48.00', 'a15.9', 'i70.0', 'n83.9', 'a54.9', 'i63.519', 'k14.8', 'l50.9', 'q07.8', 'm79.643', 'h53.47', 'h53.462', 'n18.2', 'n45.2', 'm86.8x5', 'i72.9', 's71.101', 's22.5xx', 'c83.0', 't17.810', 'r27.8', 'j47.9', 's61.209', 'b67.8', 'm41.9', 'l80', 'l25.9', 'i48.0', 'e27.40', 'q76.49', 'z68.42', 'g24.9', 'b33.3']\n"
     ]
    }
   ],
   "source": [
    "print(random_sampled_diagnoses)"
   ]
  },
  {
   "cell_type": "code",
   "execution_count": 12,
   "metadata": {},
   "outputs": [],
   "source": [
    "n = 10\n",
    "random_sampled_diagnoses_chunked = [random_sampled_diagnoses[i:i+n] for i in range(0, len(random_sampled_diagnoses), n)]        # Use xrange in py2k\n",
    "random_sampled_procedures_chunked = [random_sampled_procedures[i:i+n] for i in range(0, len(random_sampled_procedures), n)]        # Use xrange in py2k\n"
   ]
  },
  {
   "cell_type": "code",
   "execution_count": null,
   "metadata": {},
   "outputs": [
    {
     "name": "stdout",
     "output_type": "stream",
     "text": [
      "[['i82.619', 'h57.9', 'd73.89', 'h47.10', 'q87.3', 'n60.1', 'm79.60', 'h30.89', 'f19.20', 'r86.9'], ['b95.8', 's70.32', 'k31.89', 'h49.11', 'n76.5', 'i61.3', 'l94.3', 'h57.8', 'j82', 'h47.20'], ['k06.2', 'q38.2', 'r10.11', 'n23', 'n28.1', 'h54.61', 'b58.9', 'i12.0', 'r40.2412', 'q04.3'], ['i77.71', 'a18.10', 'a18.50', 'w56.81x', 'h35.62', 'c79.82', 's32.10', 'b34.9', 'n97.9', 'q87.89'], ['a49.9', 'k62.0', 'g83.24', 'c49.a2', 'k57.30', 'n44.8', 'j85.2', 'f12.20', 'e85.9', 'h18.2'], ['m26.02', 'n94.89', 'r91.1', 'e83.42', 'q60.5', 'c49.a', 'k62.9', 'i85.00', 'g60.8', 'm25.439'], ['r39.13', 'm85.00', 'f70', 'k22.70', 's49.92x', 'r09.2', 'k04.7', 'd30.3', 'q74.0', 'd48.1'], ['w19.xxx', 't20.30x', 'k72.9', 'a41.81', 's05.8x2', 'p83.8', 'z17.1', 'k13.0', 'm79.1', 'z74.01'], ['f05', 'd72.820', 'l29.0', 'z79.810', 'j84.10', 'n32.0', 'e83.51', 'z90.710', 'k63.5', 'h01.001'], ['h50.011', 'c90.00', 'd15.1', 'r20.0', 'n28.9', 'k11.1', 't85.41x', 'm62.3', 'b19.20', 'h21.9']]\n"
     ]
    }
   ],
   "source": [
    "print(random_sampled_diagnoses_chunked)"
   ]
  },
  {
   "cell_type": "code",
   "execution_count": 15,
   "metadata": {},
   "outputs": [
    {
     "name": "stdout",
     "output_type": "stream",
     "text": [
      "Add for each code ICD-10 the correct description as would be found. The input is a list of ICD-10 codes.\n",
      "Output: [{'ICD-10-code': 'code', 'Description': 'the description'}]\n",
      "\n",
      "Input: ['h05.233', 'q51.811', 'n26.9', 'z82.41', 's23.163', 'b96.89', 'r74.0', 'h21.309', 'a04.7', 'n85.9']\n",
      "Output: \n"
     ]
    }
   ],
   "source": [
    "def get_prompt_description(codes):\n",
    "    output = [{\"ICD-10-code\": \"code\", \"Description\": \"the description\"}]\n",
    "    prompt1 = \"\"\"Add for each code ICD-10 the correct description as would be found. The input is a list of ICD-10 codes.\n",
    "Output: {output}\n",
    "\n",
    "Input: {codes}\n",
    "Output: \"\"\".format(output=output, codes=codes)\n",
    "    return prompt1\n",
    "\n",
    "print(get_prompt_description(random_sampled_diagnoses_chunked[0]))"
   ]
  },
  {
   "cell_type": "code",
   "execution_count": 31,
   "metadata": {},
   "outputs": [
    {
     "name": "stdout",
     "output_type": "stream",
     "text": [
      "                                                diag\n",
      "0  [i75.89, h00.11, k92.0, m35.9, i85.01, s25.02x...\n",
      "1  [j82, r47.02, e11.64, e23.2, s70.312, l00, b46...\n",
      "2  [e80.4, m54.31, e87.1, r06.4, c43.9, m80.88x, ...\n",
      "3  [h31.309, i44.2, h05.20, f60.7, k83.8, n30.80,...\n",
      "4  [k56.2, h50.21, r01.0, k42.9, m26.619, d53.1, ...\n",
      "5  [d17.5, h11.002, c85.9, c66.1, h11.422, c78.7,...\n",
      "6  [d86.9, r19.8, f32.3, d37.8, g20, i35.8, s06.9...\n",
      "7  [a63.0, d73.4, c83.39, c53.9, i88.1, i48.92, d...\n",
      "8  [i63.511, l02.41, h21.42, k52.82, m87.059, s39...\n",
      "9  [d40.11, e75.5, d44.4, s53.101, b10.89, h30.14...\n"
     ]
    }
   ],
   "source": [
    "df_diag = pd.DataFrame()\n",
    "df_diag[\"diag\"] = random_sampled_diagnoses_chunked\n",
    "\n",
    "print(df_diag)\n"
   ]
  },
  {
   "cell_type": "code",
   "execution_count": 35,
   "metadata": {},
   "outputs": [
    {
     "name": "stdout",
     "output_type": "stream",
     "text": [
      "10\n"
     ]
    }
   ],
   "source": [
    "prompts  = []\n",
    "for chunk in random_sampled_diagnoses_chunked:\n",
    "    prompts.append(get_prompt_description(chunk))\n",
    "print(len(prompts))\n",
    "df_diag[\"prompt_descr\"] = prompts\n",
    "\n",
    "df_diag.to_excel('resources/prompts-diagnoses.xlsx')"
   ]
  },
  {
   "attachments": {},
   "cell_type": "markdown",
   "metadata": {},
   "source": [
    "Now use GPT-4: https://chat.openai.com/?model=gpt-4 set response to col \"response_descr\" and overwrite the file"
   ]
  },
  {
   "cell_type": "code",
   "execution_count": 37,
   "metadata": {},
   "outputs": [
    {
     "data": {
      "text/html": [
       "<div>\n",
       "<style scoped>\n",
       "    .dataframe tbody tr th:only-of-type {\n",
       "        vertical-align: middle;\n",
       "    }\n",
       "\n",
       "    .dataframe tbody tr th {\n",
       "        vertical-align: top;\n",
       "    }\n",
       "\n",
       "    .dataframe thead th {\n",
       "        text-align: right;\n",
       "    }\n",
       "</style>\n",
       "<table border=\"1\" class=\"dataframe\">\n",
       "  <thead>\n",
       "    <tr style=\"text-align: right;\">\n",
       "      <th></th>\n",
       "      <th>Unnamed: 0</th>\n",
       "      <th>diag</th>\n",
       "      <th>prompt_descr</th>\n",
       "      <th>response_descr</th>\n",
       "    </tr>\n",
       "  </thead>\n",
       "  <tbody>\n",
       "    <tr>\n",
       "      <th>0</th>\n",
       "      <td>0</td>\n",
       "      <td>['i75.89', 'h00.11', 'k92.0', 'm35.9', 'i85.01...</td>\n",
       "      <td>Add for each code ICD-10 the correct descripti...</td>\n",
       "      <td>[    {\"ICD-10-code\": \"i75.89\", \"Description\": ...</td>\n",
       "    </tr>\n",
       "    <tr>\n",
       "      <th>1</th>\n",
       "      <td>1</td>\n",
       "      <td>['j82', 'r47.02', 'e11.64', 'e23.2', 's70.312'...</td>\n",
       "      <td>Add for each code ICD-10 the correct descripti...</td>\n",
       "      <td>[\\n  {\"ICD-10-code\": \"j82\", \"Description\": \"Pu...</td>\n",
       "    </tr>\n",
       "    <tr>\n",
       "      <th>2</th>\n",
       "      <td>2</td>\n",
       "      <td>['e80.4', 'm54.31', 'e87.1', 'r06.4', 'c43.9',...</td>\n",
       "      <td>Add for each code ICD-10 the correct descripti...</td>\n",
       "      <td>[\\n  {\"ICD-10-code\": \"e80.4\", \"Description\": ...</td>\n",
       "    </tr>\n",
       "    <tr>\n",
       "      <th>3</th>\n",
       "      <td>3</td>\n",
       "      <td>['h31.309', 'i44.2', 'h05.20', 'f60.7', 'k83.8...</td>\n",
       "      <td>Add for each code ICD-10 the correct descripti...</td>\n",
       "      <td>[\\n  {\"ICD-10-code\": \"h31.309\", \"Description\"...</td>\n",
       "    </tr>\n",
       "    <tr>\n",
       "      <th>4</th>\n",
       "      <td>4</td>\n",
       "      <td>['k56.2', 'h50.21', 'r01.0', 'k42.9', 'm26.619...</td>\n",
       "      <td>Add for each code ICD-10 the correct descripti...</td>\n",
       "      <td>[\\n  {\"ICD-10-code\": \"k56.2\", \"Description\": ...</td>\n",
       "    </tr>\n",
       "  </tbody>\n",
       "</table>\n",
       "</div>"
      ],
      "text/plain": [
       "   Unnamed: 0                                               diag  \\\n",
       "0           0  ['i75.89', 'h00.11', 'k92.0', 'm35.9', 'i85.01...   \n",
       "1           1  ['j82', 'r47.02', 'e11.64', 'e23.2', 's70.312'...   \n",
       "2           2  ['e80.4', 'm54.31', 'e87.1', 'r06.4', 'c43.9',...   \n",
       "3           3  ['h31.309', 'i44.2', 'h05.20', 'f60.7', 'k83.8...   \n",
       "4           4  ['k56.2', 'h50.21', 'r01.0', 'k42.9', 'm26.619...   \n",
       "\n",
       "                                        prompt_descr  \\\n",
       "0  Add for each code ICD-10 the correct descripti...   \n",
       "1  Add for each code ICD-10 the correct descripti...   \n",
       "2  Add for each code ICD-10 the correct descripti...   \n",
       "3  Add for each code ICD-10 the correct descripti...   \n",
       "4  Add for each code ICD-10 the correct descripti...   \n",
       "\n",
       "                                      response_descr  \n",
       "0  [    {\"ICD-10-code\": \"i75.89\", \"Description\": ...  \n",
       "1  [\\n  {\"ICD-10-code\": \"j82\", \"Description\": \"Pu...  \n",
       "2   [\\n  {\"ICD-10-code\": \"e80.4\", \"Description\": ...  \n",
       "3   [\\n  {\"ICD-10-code\": \"h31.309\", \"Description\"...  \n",
       "4   [\\n  {\"ICD-10-code\": \"k56.2\", \"Description\": ...  "
      ]
     },
     "execution_count": 37,
     "metadata": {},
     "output_type": "execute_result"
    }
   ],
   "source": [
    "df_diag = pd.read_excel('resources/prompts-diagnoses.xlsx')\n",
    "df_diag.head()"
   ]
  },
  {
   "attachments": {},
   "cell_type": "markdown",
   "metadata": {},
   "source": [
    "The following prompt is used"
   ]
  },
  {
   "attachments": {},
   "cell_type": "markdown",
   "metadata": {},
   "source": [
    "Evaluate the PREDICTED to the ACTUAL description in the json, the prediction does not have to be strictly equal, but have the same meaning. Add a field EVAL to the json for the boolean outcome. Here is the json:"
   ]
  },
  {
   "cell_type": "code",
   "execution_count": null,
   "metadata": {},
   "outputs": [
    {
     "name": "stdout",
     "output_type": "stream",
     "text": [
      "b'[1,[\"M86.8X5\"],null,[[\"M86.8X5\",\"Other osteomyelitis, thigh\"]]]'\n",
      "[1, ['M86.8X5'], None, [['M86.8X5', 'Other osteomyelitis, thigh']]]\n",
      "Other osteomyelitis, thigh\n"
     ]
    }
   ],
   "source": [
    "import requests\n",
    "import json\n",
    "\n",
    "\n",
    "def get_code_description(icd_10_code):\n",
    "    request_url = \"https://clinicaltables.nlm.nih.gov/api/icd10cm/v3/search?df=code,name&authenticity_token=&terms={icd_code}\".format(icd_code=icd_10_code)\n",
    "    x = requests.get(request_url)\n",
    "    print(x.content)\n",
    "    json_res = json.loads(x.content)\n",
    "    print(json_res)\n",
    "    description = json_res[3][0][1] \n",
    "    return description\n",
    "\n",
    "print(get_code_description(icd_10_code=\"m86.8x5\"))\n"
   ]
  },
  {
   "cell_type": "code",
   "execution_count": 52,
   "metadata": {},
   "outputs": [
    {
     "name": "stdout",
     "output_type": "stream",
     "text": [
      "b'[1,[\"I75.89\"],null,[[\"I75.89\",\"Atheroembolism of other site\"]]]'\n",
      "[1, ['I75.89'], None, [['I75.89', 'Atheroembolism of other site']]]\n",
      "b'[1,[\"H00.11\"],null,[[\"H00.11\",\"Chalazion right upper eyelid\"]]]'\n",
      "[1, ['H00.11'], None, [['H00.11', 'Chalazion right upper eyelid']]]\n",
      "b'[1,[\"K92.0\"],null,[[\"K92.0\",\"Hematemesis\"]]]'\n",
      "[1, ['K92.0'], None, [['K92.0', 'Hematemesis']]]\n",
      "b'[1,[\"M35.9\"],null,[[\"M35.9\",\"Systemic involvement of connective tissue, unspecified\"]]]'\n",
      "[1, ['M35.9'], None, [['M35.9', 'Systemic involvement of connective tissue, unspecified']]]\n",
      "b'[1,[\"I85.01\"],null,[[\"I85.01\",\"Esophageal varices with bleeding\"]]]'\n",
      "[1, ['I85.01'], None, [['I85.01', 'Esophageal varices with bleeding']]]\n",
      "b'[3,[\"S25.02XA\",\"S25.02XD\",\"S25.02XS\"],null,[[\"S25.02XA\",\"Major laceration of thoracic aorta, initial encounter\"],[\"S25.02XD\",\"Major laceration of thoracic aorta, subsequent encounter\"],[\"S25.02XS\",\"Major laceration of thoracic aorta, sequela\"]]]'\n",
      "[3, ['S25.02XA', 'S25.02XD', 'S25.02XS'], None, [['S25.02XA', 'Major laceration of thoracic aorta, initial encounter'], ['S25.02XD', 'Major laceration of thoracic aorta, subsequent encounter'], ['S25.02XS', 'Major laceration of thoracic aorta, sequela']]]\n",
      "b'[1,[\"H43.10\"],null,[[\"H43.10\",\"Vitreous hemorrhage, unspecified eye\"]]]'\n",
      "[1, ['H43.10'], None, [['H43.10', 'Vitreous hemorrhage, unspecified eye']]]\n",
      "b'[1,[\"B65.1\"],null,[[\"B65.1\",\"Schistosomiasis due to Schistosoma mansoni [intestinal schistosomiasis]\"]]]'\n",
      "[1, ['B65.1'], None, [['B65.1', 'Schistosomiasis due to Schistosoma mansoni [intestinal schistosomiasis]']]]\n",
      "b'[1,[\"J34.9\"],null,[[\"J34.9\",\"Unspecified disorder of nose and nasal sinuses\"]]]'\n",
      "[1, ['J34.9'], None, [['J34.9', 'Unspecified disorder of nose and nasal sinuses']]]\n",
      "b'[2,[\"K80.50\",\"K80.51\"],null,[[\"K80.50\",\"Calculus of bile duct without cholangitis or cholecystitis without obstruction\"],[\"K80.51\",\"Calculus of bile duct without cholangitis or cholecystitis with obstruction\"]]]'\n",
      "[2, ['K80.50', 'K80.51'], None, [['K80.50', 'Calculus of bile duct without cholangitis or cholecystitis without obstruction'], ['K80.51', 'Calculus of bile duct without cholangitis or cholecystitis with obstruction']]]\n",
      "b'[4,[\"J82.81\",\"J82.82\",\"J82.83\",\"J82.89\"],null,[[\"J82.81\",\"Chronic eosinophilic pneumonia\"],[\"J82.82\",\"Acute eosinophilic pneumonia\"],[\"J82.83\",\"Eosinophilic asthma\"],[\"J82.89\",\"Other pulmonary eosinophilia, not elsewhere classified\"]]]'\n",
      "[4, ['J82.81', 'J82.82', 'J82.83', 'J82.89'], None, [['J82.81', 'Chronic eosinophilic pneumonia'], ['J82.82', 'Acute eosinophilic pneumonia'], ['J82.83', 'Eosinophilic asthma'], ['J82.89', 'Other pulmonary eosinophilia, not elsewhere classified']]]\n",
      "b'[1,[\"R47.02\"],null,[[\"R47.02\",\"Dysphasia\"]]]'\n",
      "[1, ['R47.02'], None, [['R47.02', 'Dysphasia']]]\n",
      "b'[2,[\"E11.641\",\"E11.649\"],null,[[\"E11.641\",\"Type 2 diabetes mellitus with hypoglycemia with coma\"],[\"E11.649\",\"Type 2 diabetes mellitus with hypoglycemia without coma\"]]]'\n",
      "[2, ['E11.641', 'E11.649'], None, [['E11.641', 'Type 2 diabetes mellitus with hypoglycemia with coma'], ['E11.649', 'Type 2 diabetes mellitus with hypoglycemia without coma']]]\n",
      "b'[1,[\"E23.2\"],null,[[\"E23.2\",\"Diabetes insipidus\"]]]'\n",
      "[1, ['E23.2'], None, [['E23.2', 'Diabetes insipidus']]]\n",
      "b'[3,[\"S70.312A\",\"S70.312D\",\"S70.312S\"],null,[[\"S70.312A\",\"Abrasion, left thigh, initial encounter\"],[\"S70.312D\",\"Abrasion, left thigh, subsequent encounter\"],[\"S70.312S\",\"Abrasion, left thigh, sequela\"]]]'\n",
      "[3, ['S70.312A', 'S70.312D', 'S70.312S'], None, [['S70.312A', 'Abrasion, left thigh, initial encounter'], ['S70.312D', 'Abrasion, left thigh, subsequent encounter'], ['S70.312S', 'Abrasion, left thigh, sequela']]]\n",
      "b'[1,[\"L00\"],null,[[\"L00\",\"Staphylococcal scalded skin syndrome\"]]]'\n",
      "[1, ['L00'], None, [['L00', 'Staphylococcal scalded skin syndrome']]]\n",
      "b'[1,[\"B46.5\"],null,[[\"B46.5\",\"Mucormycosis, unspecified\"]]]'\n",
      "[1, ['B46.5'], None, [['B46.5', 'Mucormycosis, unspecified']]]\n",
      "b'[1,[\"M26.609\"],null,[[\"M26.609\",\"Unspecified temporomandibular joint disorder, unspecified side\"]]]'\n",
      "[1, ['M26.609'], None, [['M26.609', 'Unspecified temporomandibular joint disorder, unspecified side']]]\n",
      "b'[1,[\"K06.2\"],null,[[\"K06.2\",\"Gingival and edentulous alveolar ridge lesions associated with trauma\"]]]'\n",
      "[1, ['K06.2'], None, [['K06.2', 'Gingival and edentulous alveolar ridge lesions associated with trauma']]]\n",
      "b'[1,[\"M86.68\"],null,[[\"M86.68\",\"Other chronic osteomyelitis, other site\"]]]'\n",
      "[1, ['M86.68'], None, [['M86.68', 'Other chronic osteomyelitis, other site']]]\n",
      "b'[1,[\"E80.4\"],null,[[\"E80.4\",\"Gilbert syndrome\"]]]'\n",
      "[1, ['E80.4'], None, [['E80.4', 'Gilbert syndrome']]]\n",
      "b'[1,[\"M54.31\"],null,[[\"M54.31\",\"Sciatica, right side\"]]]'\n",
      "[1, ['M54.31'], None, [['M54.31', 'Sciatica, right side']]]\n",
      "b'[1,[\"E87.1\"],null,[[\"E87.1\",\"Hypo-osmolality and hyponatremia\"]]]'\n",
      "[1, ['E87.1'], None, [['E87.1', 'Hypo-osmolality and hyponatremia']]]\n",
      "b'[1,[\"R06.4\"],null,[[\"R06.4\",\"Hyperventilation\"]]]'\n",
      "[1, ['R06.4'], None, [['R06.4', 'Hyperventilation']]]\n",
      "b'[1,[\"C43.9\"],null,[[\"C43.9\",\"Malignant melanoma of skin, unspecified\"]]]'\n",
      "[1, ['C43.9'], None, [['C43.9', 'Malignant melanoma of skin, unspecified']]]\n",
      "b'[6,[\"M80.88XA\",\"M80.88XD\",\"M80.88XG\",\"M80.88XK\",\"M80.88XP\",\"M80.88XS\"],null,[[\"M80.88XA\",\"Other osteoporosis with current pathological fracture, vertebra(e), initial encounter for fracture\"],[\"M80.88XD\",\"Other osteoporosis with current pathological fracture, vertebra(e), subsequent encounter for fracture with routine healing\"],[\"M80.88XG\",\"Other osteoporosis with current pathological fracture, vertebra(e), subsequent encounter for fracture with delayed healing\"],[\"M80.88XK\",\"Other osteoporosis with current pathological fracture, vertebra(e), subsequent encounter for fracture with nonunion\"],[\"M80.88XP\",\"Other osteoporosis with current pathological fracture, vertebra(e), subsequent encounter for fracture with malunion\"],[\"M80.88XS\",\"Other osteoporosis with current pathological fracture, vertebra(e), sequela\"]]]'\n",
      "[6, ['M80.88XA', 'M80.88XD', 'M80.88XG', 'M80.88XK', 'M80.88XP', 'M80.88XS'], None, [['M80.88XA', 'Other osteoporosis with current pathological fracture, vertebra(e), initial encounter for fracture'], ['M80.88XD', 'Other osteoporosis with current pathological fracture, vertebra(e), subsequent encounter for fracture with routine healing'], ['M80.88XG', 'Other osteoporosis with current pathological fracture, vertebra(e), subsequent encounter for fracture with delayed healing'], ['M80.88XK', 'Other osteoporosis with current pathological fracture, vertebra(e), subsequent encounter for fracture with nonunion'], ['M80.88XP', 'Other osteoporosis with current pathological fracture, vertebra(e), subsequent encounter for fracture with malunion'], ['M80.88XS', 'Other osteoporosis with current pathological fracture, vertebra(e), sequela']]]\n",
      "b'[1,[\"D16.9\"],null,[[\"D16.9\",\"Benign neoplasm of bone and articular cartilage, unspecified\"]]]'\n",
      "[1, ['D16.9'], None, [['D16.9', 'Benign neoplasm of bone and articular cartilage, unspecified']]]\n",
      "b'[1,[\"D69.3\"],null,[[\"D69.3\",\"Immune thrombocytopenic purpura\"]]]'\n",
      "[1, ['D69.3'], None, [['D69.3', 'Immune thrombocytopenic purpura']]]\n",
      "b'[1,[\"D89.1\"],null,[[\"D89.1\",\"Cryoglobulinemia\"]]]'\n",
      "[1, ['D89.1'], None, [['D89.1', 'Cryoglobulinemia']]]\n",
      "b'[1,[\"N39.44\"],null,[[\"N39.44\",\"Nocturnal enuresis\"]]]'\n",
      "[1, ['N39.44'], None, [['N39.44', 'Nocturnal enuresis']]]\n",
      "b'[1,[\"H31.309\"],null,[[\"H31.309\",\"Unspecified choroidal hemorrhage, unspecified eye\"]]]'\n",
      "[1, ['H31.309'], None, [['H31.309', 'Unspecified choroidal hemorrhage, unspecified eye']]]\n",
      "b'[1,[\"I44.2\"],null,[[\"I44.2\",\"Atrioventricular block, complete\"]]]'\n",
      "[1, ['I44.2'], None, [['I44.2', 'Atrioventricular block, complete']]]\n",
      "b'[1,[\"H05.20\"],null,[[\"H05.20\",\"Unspecified exophthalmos\"]]]'\n",
      "[1, ['H05.20'], None, [['H05.20', 'Unspecified exophthalmos']]]\n",
      "b'[1,[\"F60.7\"],null,[[\"F60.7\",\"Dependent personality disorder\"]]]'\n",
      "[1, ['F60.7'], None, [['F60.7', 'Dependent personality disorder']]]\n",
      "b'[1,[\"K83.8\"],null,[[\"K83.8\",\"Other specified diseases of biliary tract\"]]]'\n",
      "[1, ['K83.8'], None, [['K83.8', 'Other specified diseases of biliary tract']]]\n",
      "b'[1,[\"N30.80\"],null,[[\"N30.80\",\"Other cystitis without hematuria\"]]]'\n",
      "[1, ['N30.80'], None, [['N30.80', 'Other cystitis without hematuria']]]\n",
      "b'[2,[\"P83.81\",\"P83.88\"],null,[[\"P83.81\",\"Umbilical granuloma\"],[\"P83.88\",\"Other specified conditions of integument specific to newborn\"]]]'\n",
      "[2, ['P83.81', 'P83.88'], None, [['P83.81', 'Umbilical granuloma'], ['P83.88', 'Other specified conditions of integument specific to newborn']]]\n",
      "b'[1,[\"R00.2\"],null,[[\"R00.2\",\"Palpitations\"]]]'\n",
      "[1, ['R00.2'], None, [['R00.2', 'Palpitations']]]\n",
      "b'[1,[\"Z97.5\"],null,[[\"Z97.5\",\"Presence of (intrauterine) contraceptive device\"]]]'\n",
      "[1, ['Z97.5'], None, [['Z97.5', 'Presence of (intrauterine) contraceptive device']]]\n",
      "b'[1,[\"M25.541\"],null,[[\"M25.541\",\"Pain in joints of right hand\"]]]'\n",
      "[1, ['M25.541'], None, [['M25.541', 'Pain in joints of right hand']]]\n",
      "b'[1,[\"K56.2\"],null,[[\"K56.2\",\"Volvulus\"]]]'\n",
      "[1, ['K56.2'], None, [['K56.2', 'Volvulus']]]\n",
      "b'[1,[\"H50.21\"],null,[[\"H50.21\",\"Vertical strabismus, right eye\"]]]'\n",
      "[1, ['H50.21'], None, [['H50.21', 'Vertical strabismus, right eye']]]\n",
      "b'[1,[\"R01.0\"],null,[[\"R01.0\",\"Benign and innocent cardiac murmurs\"]]]'\n",
      "[1, ['R01.0'], None, [['R01.0', 'Benign and innocent cardiac murmurs']]]\n",
      "b'[1,[\"K42.9\"],null,[[\"K42.9\",\"Umbilical hernia without obstruction or gangrene\"]]]'\n",
      "[1, ['K42.9'], None, [['K42.9', 'Umbilical hernia without obstruction or gangrene']]]\n",
      "b'[1,[\"M26.619\"],null,[[\"M26.619\",\"Adhesions and ankylosis of temporomandibular joint, unspecified side\"]]]'\n",
      "[1, ['M26.619'], None, [['M26.619', 'Adhesions and ankylosis of temporomandibular joint, unspecified side']]]\n",
      "b'[1,[\"D53.1\"],null,[[\"D53.1\",\"Other megaloblastic anemias, not elsewhere classified\"]]]'\n",
      "[1, ['D53.1'], None, [['D53.1', 'Other megaloblastic anemias, not elsewhere classified']]]\n",
      "b'[1,[\"N43.3\"],null,[[\"N43.3\",\"Hydrocele, unspecified\"]]]'\n",
      "[1, ['N43.3'], None, [['N43.3', 'Hydrocele, unspecified']]]\n",
      "b'[1,[\"H02.411\"],null,[[\"H02.411\",\"Mechanical ptosis of right eyelid\"]]]'\n",
      "[1, ['H02.411'], None, [['H02.411', 'Mechanical ptosis of right eyelid']]]\n",
      "b'[1,[\"M35.2\"],null,[[\"M35.2\",\"Behcet\\'s disease\"]]]'\n",
      "[1, ['M35.2'], None, [['M35.2', \"Behcet's disease\"]]]\n",
      "b'[1,[\"K04.8\"],null,[[\"K04.8\",\"Radicular cyst\"]]]'\n",
      "[1, ['K04.8'], None, [['K04.8', 'Radicular cyst']]]\n",
      "b'[1,[\"D17.5\"],null,[[\"D17.5\",\"Benign lipomatous neoplasm of intra-abdominal organs\"]]]'\n",
      "[1, ['D17.5'], None, [['D17.5', 'Benign lipomatous neoplasm of intra-abdominal organs']]]\n",
      "b'[1,[\"H11.002\"],null,[[\"H11.002\",\"Unspecified pterygium of left eye\"]]]'\n",
      "[1, ['H11.002'], None, [['H11.002', 'Unspecified pterygium of left eye']]]\n",
      "b'[10,[\"C85.90\",\"C85.91\",\"C85.92\",\"C85.93\",\"C85.94\",\"C85.95\",\"C85.96\"],null,[[\"C85.90\",\"Non-Hodgkin lymphoma, unspecified, unspecified site\"],[\"C85.91\",\"Non-Hodgkin lymphoma, unspecified, lymph nodes of head, face, and neck\"],[\"C85.92\",\"Non-Hodgkin lymphoma, unspecified, intrathoracic lymph nodes\"],[\"C85.93\",\"Non-Hodgkin lymphoma, unspecified, intra-abdominal lymph nodes\"],[\"C85.94\",\"Non-Hodgkin lymphoma, unspecified, lymph nodes of axilla and upper limb\"],[\"C85.95\",\"Non-Hodgkin lymphoma, unspecified, lymph nodes of inguinal region and lower limb\"],[\"C85.96\",\"Non-Hodgkin lymphoma, unspecified, intrapelvic lymph nodes\"]]]'\n",
      "[10, ['C85.90', 'C85.91', 'C85.92', 'C85.93', 'C85.94', 'C85.95', 'C85.96'], None, [['C85.90', 'Non-Hodgkin lymphoma, unspecified, unspecified site'], ['C85.91', 'Non-Hodgkin lymphoma, unspecified, lymph nodes of head, face, and neck'], ['C85.92', 'Non-Hodgkin lymphoma, unspecified, intrathoracic lymph nodes'], ['C85.93', 'Non-Hodgkin lymphoma, unspecified, intra-abdominal lymph nodes'], ['C85.94', 'Non-Hodgkin lymphoma, unspecified, lymph nodes of axilla and upper limb'], ['C85.95', 'Non-Hodgkin lymphoma, unspecified, lymph nodes of inguinal region and lower limb'], ['C85.96', 'Non-Hodgkin lymphoma, unspecified, intrapelvic lymph nodes']]]\n",
      "b'[1,[\"C66.1\"],null,[[\"C66.1\",\"Malignant neoplasm of right ureter\"]]]'\n",
      "[1, ['C66.1'], None, [['C66.1', 'Malignant neoplasm of right ureter']]]\n",
      "b'[1,[\"H11.422\"],null,[[\"H11.422\",\"Conjunctival edema, left eye\"]]]'\n",
      "[1, ['H11.422'], None, [['H11.422', 'Conjunctival edema, left eye']]]\n",
      "b'[1,[\"C78.7\"],null,[[\"C78.7\",\"Secondary malignant neoplasm of liver and intrahepatic bile duct\"]]]'\n",
      "[1, ['C78.7'], None, [['C78.7', 'Secondary malignant neoplasm of liver and intrahepatic bile duct']]]\n",
      "b'[3,[\"T14.91XA\",\"T14.91XD\",\"T14.91XS\"],null,[[\"T14.91XA\",\"Suicide attempt, initial encounter\"],[\"T14.91XD\",\"Suicide attempt, subsequent encounter\"],[\"T14.91XS\",\"Suicide attempt, sequela\"]]]'\n",
      "[3, ['T14.91XA', 'T14.91XD', 'T14.91XS'], None, [['T14.91XA', 'Suicide attempt, initial encounter'], ['T14.91XD', 'Suicide attempt, subsequent encounter'], ['T14.91XS', 'Suicide attempt, sequela']]]\n",
      "b'[1,[\"K06.9\"],null,[[\"K06.9\",\"Disorder of gingiva and edentulous alveolar ridge, unspecified\"]]]'\n",
      "[1, ['K06.9'], None, [['K06.9', 'Disorder of gingiva and edentulous alveolar ridge, unspecified']]]\n",
      "b'[1,[\"N05.9\"],null,[[\"N05.9\",\"Unspecified nephritic syndrome with unspecified morphologic changes\"]]]'\n",
      "[1, ['N05.9'], None, [['N05.9', 'Unspecified nephritic syndrome with unspecified morphologic changes']]]\n",
      "b'[1,[\"K37\"],null,[[\"K37\",\"Unspecified appendicitis\"]]]'\n",
      "[1, ['K37'], None, [['K37', 'Unspecified appendicitis']]]\n",
      "b'[1,[\"D86.9\"],null,[[\"D86.9\",\"Sarcoidosis, unspecified\"]]]'\n",
      "[1, ['D86.9'], None, [['D86.9', 'Sarcoidosis, unspecified']]]\n",
      "b'[1,[\"R19.8\"],null,[[\"R19.8\",\"Other specified symptoms and signs involving the digestive system and abdomen\"]]]'\n",
      "[1, ['R19.8'], None, [['R19.8', 'Other specified symptoms and signs involving the digestive system and abdomen']]]\n",
      "b'[1,[\"F32.3\"],null,[[\"F32.3\",\"Major depressive disorder, single episode, severe with psychotic features\"]]]'\n",
      "[1, ['F32.3'], None, [['F32.3', 'Major depressive disorder, single episode, severe with psychotic features']]]\n",
      "b'[1,[\"D37.8\"],null,[[\"D37.8\",\"Neoplasm of uncertain behavior of other specified digestive organs\"]]]'\n",
      "[1, ['D37.8'], None, [['D37.8', 'Neoplasm of uncertain behavior of other specified digestive organs']]]\n",
      "b'[1,[\"G20\"],null,[[\"G20\",\"Parkinson\\'s disease\"]]]'\n",
      "[1, ['G20'], None, [['G20', \"Parkinson's disease\"]]]\n",
      "b'[1,[\"I35.8\"],null,[[\"I35.8\",\"Other nonrheumatic aortic valve disorders\"]]]'\n",
      "[1, ['I35.8'], None, [['I35.8', 'Other nonrheumatic aortic valve disorders']]]\n",
      "b'[29,[\"S06.9X0A\",\"S06.9X0D\",\"S06.9X0S\",\"S06.9X1A\",\"S06.9X1D\",\"S06.9X1S\",\"S06.9X2A\"],null,[[\"S06.9X0A\",\"Unspecified intracranial injury without loss of consciousness, initial encounter\"],[\"S06.9X0D\",\"Unspecified intracranial injury without loss of consciousness, subsequent encounter\"],[\"S06.9X0S\",\"Unspecified intracranial injury without loss of consciousness, sequela\"],[\"S06.9X1A\",\"Unspecified intracranial injury with loss of consciousness of 30 minutes or less, initial encounter\"],[\"S06.9X1D\",\"Unspecified intracranial injury with loss of consciousness of 30 minutes or less, subsequent encounter\"],[\"S06.9X1S\",\"Unspecified intracranial injury with loss of consciousness of 30 minutes or less, sequela\"],[\"S06.9X2A\",\"Unspecified intracranial injury with loss of consciousness of 31 minutes to 59 minutes, initial encounter\"]]]'\n",
      "[29, ['S06.9X0A', 'S06.9X0D', 'S06.9X0S', 'S06.9X1A', 'S06.9X1D', 'S06.9X1S', 'S06.9X2A'], None, [['S06.9X0A', 'Unspecified intracranial injury without loss of consciousness, initial encounter'], ['S06.9X0D', 'Unspecified intracranial injury without loss of consciousness, subsequent encounter'], ['S06.9X0S', 'Unspecified intracranial injury without loss of consciousness, sequela'], ['S06.9X1A', 'Unspecified intracranial injury with loss of consciousness of 30 minutes or less, initial encounter'], ['S06.9X1D', 'Unspecified intracranial injury with loss of consciousness of 30 minutes or less, subsequent encounter'], ['S06.9X1S', 'Unspecified intracranial injury with loss of consciousness of 30 minutes or less, sequela'], ['S06.9X2A', 'Unspecified intracranial injury with loss of consciousness of 31 minutes to 59 minutes, initial encounter']]]\n",
      "b'[1,[\"D72.819\"],null,[[\"D72.819\",\"Decreased white blood cell count, unspecified\"]]]'\n",
      "[1, ['D72.819'], None, [['D72.819', 'Decreased white blood cell count, unspecified']]]\n",
      "b'[1,[\"D41.4\"],null,[[\"D41.4\",\"Neoplasm of uncertain behavior of bladder\"]]]'\n",
      "[1, ['D41.4'], None, [['D41.4', 'Neoplasm of uncertain behavior of bladder']]]\n",
      "b'[3,[\"S06.4X0A\",\"S06.4X0D\",\"S06.4X0S\"],null,[[\"S06.4X0A\",\"Epidural hemorrhage without loss of consciousness, initial encounter\"],[\"S06.4X0D\",\"Epidural hemorrhage without loss of consciousness, subsequent encounter\"],[\"S06.4X0S\",\"Epidural hemorrhage without loss of consciousness, sequela\"]]]'\n",
      "[3, ['S06.4X0A', 'S06.4X0D', 'S06.4X0S'], None, [['S06.4X0A', 'Epidural hemorrhage without loss of consciousness, initial encounter'], ['S06.4X0D', 'Epidural hemorrhage without loss of consciousness, subsequent encounter'], ['S06.4X0S', 'Epidural hemorrhage without loss of consciousness, sequela']]]\n",
      "b'[1,[\"A63.0\"],null,[[\"A63.0\",\"Anogenital (venereal) warts\"]]]'\n",
      "[1, ['A63.0'], None, [['A63.0', 'Anogenital (venereal) warts']]]\n",
      "b'[1,[\"D73.4\"],null,[[\"D73.4\",\"Cyst of spleen\"]]]'\n",
      "[1, ['D73.4'], None, [['D73.4', 'Cyst of spleen']]]\n",
      "b'[1,[\"C83.39\"],null,[[\"C83.39\",\"Diffuse large B-cell lymphoma, extranodal and solid organ sites\"]]]'\n",
      "[1, ['C83.39'], None, [['C83.39', 'Diffuse large B-cell lymphoma, extranodal and solid organ sites']]]\n",
      "b'[1,[\"C53.9\"],null,[[\"C53.9\",\"Malignant neoplasm of cervix uteri, unspecified\"]]]'\n",
      "[1, ['C53.9'], None, [['C53.9', 'Malignant neoplasm of cervix uteri, unspecified']]]\n",
      "b'[1,[\"I88.1\"],null,[[\"I88.1\",\"Chronic lymphadenitis, except mesenteric\"]]]'\n",
      "[1, ['I88.1'], None, [['I88.1', 'Chronic lymphadenitis, except mesenteric']]]\n",
      "b'[1,[\"I48.92\"],null,[[\"I48.92\",\"Unspecified atrial flutter\"]]]'\n",
      "[1, ['I48.92'], None, [['I48.92', 'Unspecified atrial flutter']]]\n",
      "b'[1,[\"D44.7\"],null,[[\"D44.7\",\"Neoplasm of uncertain behavior of aortic body and other paraganglia\"]]]'\n",
      "[1, ['D44.7'], None, [['D44.7', 'Neoplasm of uncertain behavior of aortic body and other paraganglia']]]\n",
      "b'[6,[\"S32.9XXA\",\"S32.9XXB\",\"S32.9XXD\",\"S32.9XXG\",\"S32.9XXK\",\"S32.9XXS\"],null,[[\"S32.9XXA\",\"Fracture of unspecified parts of lumbosacral spine and pelvis, initial encounter for closed fracture\"],[\"S32.9XXB\",\"Fracture of unspecified parts of lumbosacral spine and pelvis, initial encounter for open fracture\"],[\"S32.9XXD\",\"Fracture of unspecified parts of lumbosacral spine and pelvis, subsequent encounter for fracture with routine healing\"],[\"S32.9XXG\",\"Fracture of unspecified parts of lumbosacral spine and pelvis, subsequent encounter for fracture with delayed healing\"],[\"S32.9XXK\",\"Fracture of unspecified parts of lumbosacral spine and pelvis, subsequent encounter for fracture with nonunion\"],[\"S32.9XXS\",\"Fracture of unspecified parts of lumbosacral spine and pelvis, sequela\"]]]'\n",
      "[6, ['S32.9XXA', 'S32.9XXB', 'S32.9XXD', 'S32.9XXG', 'S32.9XXK', 'S32.9XXS'], None, [['S32.9XXA', 'Fracture of unspecified parts of lumbosacral spine and pelvis, initial encounter for closed fracture'], ['S32.9XXB', 'Fracture of unspecified parts of lumbosacral spine and pelvis, initial encounter for open fracture'], ['S32.9XXD', 'Fracture of unspecified parts of lumbosacral spine and pelvis, subsequent encounter for fracture with routine healing'], ['S32.9XXG', 'Fracture of unspecified parts of lumbosacral spine and pelvis, subsequent encounter for fracture with delayed healing'], ['S32.9XXK', 'Fracture of unspecified parts of lumbosacral spine and pelvis, subsequent encounter for fracture with nonunion'], ['S32.9XXS', 'Fracture of unspecified parts of lumbosacral spine and pelvis, sequela']]]\n",
      "b'[1,[\"G58.9\"],null,[[\"G58.9\",\"Mononeuropathy, unspecified\"]]]'\n",
      "[1, ['G58.9'], None, [['G58.9', 'Mononeuropathy, unspecified']]]\n",
      "b'[1,[\"E27.49\"],null,[[\"E27.49\",\"Other adrenocortical insufficiency\"]]]'\n",
      "[1, ['E27.49'], None, [['E27.49', 'Other adrenocortical insufficiency']]]\n",
      "b'[1,[\"I63.511\"],null,[[\"I63.511\",\"Cerebral infarction due to unspecified occlusion or stenosis of right middle cerebral artery\"]]]'\n",
      "[1, ['I63.511'], None, [['I63.511', 'Cerebral infarction due to unspecified occlusion or stenosis of right middle cerebral artery']]]\n",
      "b'[7,[\"L02.411\",\"L02.412\",\"L02.413\",\"L02.414\",\"L02.415\",\"L02.416\",\"L02.419\"],null,[[\"L02.411\",\"Cutaneous abscess of right axilla\"],[\"L02.412\",\"Cutaneous abscess of left axilla\"],[\"L02.413\",\"Cutaneous abscess of right upper limb\"],[\"L02.414\",\"Cutaneous abscess of left upper limb\"],[\"L02.415\",\"Cutaneous abscess of right lower limb\"],[\"L02.416\",\"Cutaneous abscess of left lower limb\"],[\"L02.419\",\"Cutaneous abscess of limb, unspecified\"]]]'\n",
      "[7, ['L02.411', 'L02.412', 'L02.413', 'L02.414', 'L02.415', 'L02.416', 'L02.419'], None, [['L02.411', 'Cutaneous abscess of right axilla'], ['L02.412', 'Cutaneous abscess of left axilla'], ['L02.413', 'Cutaneous abscess of right upper limb'], ['L02.414', 'Cutaneous abscess of left upper limb'], ['L02.415', 'Cutaneous abscess of right lower limb'], ['L02.416', 'Cutaneous abscess of left lower limb'], ['L02.419', 'Cutaneous abscess of limb, unspecified']]]\n",
      "b'[1,[\"H21.42\"],null,[[\"H21.42\",\"Pupillary membranes, left eye\"]]]'\n",
      "[1, ['H21.42'], None, [['H21.42', 'Pupillary membranes, left eye']]]\n",
      "b'[1,[\"K52.82\"],null,[[\"K52.82\",\"Eosinophilic colitis\"]]]'\n",
      "[1, ['K52.82'], None, [['K52.82', 'Eosinophilic colitis']]]\n",
      "b'[1,[\"M87.059\"],null,[[\"M87.059\",\"Idiopathic aseptic necrosis of unspecified femur\"]]]'\n",
      "[1, ['M87.059'], None, [['M87.059', 'Idiopathic aseptic necrosis of unspecified femur']]]\n",
      "b'[3,[\"S39.94XA\",\"S39.94XD\",\"S39.94XS\"],null,[[\"S39.94XA\",\"Unspecified injury of external genitals, initial encounter\"],[\"S39.94XD\",\"Unspecified injury of external genitals, subsequent encounter\"],[\"S39.94XS\",\"Unspecified injury of external genitals, sequela\"]]]'\n",
      "[3, ['S39.94XA', 'S39.94XD', 'S39.94XS'], None, [['S39.94XA', 'Unspecified injury of external genitals, initial encounter'], ['S39.94XD', 'Unspecified injury of external genitals, subsequent encounter'], ['S39.94XS', 'Unspecified injury of external genitals, sequela']]]\n",
      "b'[9,[\"H54.0X33\",\"H54.0X34\",\"H54.0X35\",\"H54.0X43\",\"H54.0X44\",\"H54.0X45\",\"H54.0X53\"],null,[[\"H54.0X33\",\"Blindness right eye category 3, blindness left eye category 3\"],[\"H54.0X34\",\"Blindness right eye category 3, blindness left eye category 4\"],[\"H54.0X35\",\"Blindness right eye category 3, blindness left eye category 5\"],[\"H54.0X43\",\"Blindness right eye category 4, blindness left eye category 3\"],[\"H54.0X44\",\"Blindness right eye category 4, blindness left eye category 4\"],[\"H54.0X45\",\"Blindness right eye category 4, blindness left eye category 5\"],[\"H54.0X53\",\"Blindness right eye category 5, blindness left eye category 3\"]]]'\n",
      "[9, ['H54.0X33', 'H54.0X34', 'H54.0X35', 'H54.0X43', 'H54.0X44', 'H54.0X45', 'H54.0X53'], None, [['H54.0X33', 'Blindness right eye category 3, blindness left eye category 3'], ['H54.0X34', 'Blindness right eye category 3, blindness left eye category 4'], ['H54.0X35', 'Blindness right eye category 3, blindness left eye category 5'], ['H54.0X43', 'Blindness right eye category 4, blindness left eye category 3'], ['H54.0X44', 'Blindness right eye category 4, blindness left eye category 4'], ['H54.0X45', 'Blindness right eye category 4, blindness left eye category 5'], ['H54.0X53', 'Blindness right eye category 5, blindness left eye category 3']]]\n",
      "b'[1,[\"B45.2\"],null,[[\"B45.2\",\"Cutaneous cryptococcosis\"]]]'\n",
      "[1, ['B45.2'], None, [['B45.2', 'Cutaneous cryptococcosis']]]\n",
      "b'[1,[\"G04.1\"],null,[[\"G04.1\",\"Tropical spastic paraplegia\"]]]'\n",
      "[1, ['G04.1'], None, [['G04.1', 'Tropical spastic paraplegia']]]\n",
      "b'[1,[\"E06.3\"],null,[[\"E06.3\",\"Autoimmune thyroiditis\"]]]'\n",
      "[1, ['E06.3'], None, [['E06.3', 'Autoimmune thyroiditis']]]\n",
      "b'[1,[\"D40.11\"],null,[[\"D40.11\",\"Neoplasm of uncertain behavior of right testis\"]]]'\n",
      "[1, ['D40.11'], None, [['D40.11', 'Neoplasm of uncertain behavior of right testis']]]\n",
      "b'[1,[\"E75.5\"],null,[[\"E75.5\",\"Other lipid storage disorders\"]]]'\n",
      "[1, ['E75.5'], None, [['E75.5', 'Other lipid storage disorders']]]\n",
      "b'[1,[\"D44.4\"],null,[[\"D44.4\",\"Neoplasm of uncertain behavior of craniopharyngeal duct\"]]]'\n",
      "[1, ['D44.4'], None, [['D44.4', 'Neoplasm of uncertain behavior of craniopharyngeal duct']]]\n",
      "b'[3,[\"S53.101A\",\"S53.101D\",\"S53.101S\"],null,[[\"S53.101A\",\"Unspecified subluxation of right ulnohumeral joint, initial encounter\"],[\"S53.101D\",\"Unspecified subluxation of right ulnohumeral joint, subsequent encounter\"],[\"S53.101S\",\"Unspecified subluxation of right ulnohumeral joint, sequela\"]]]'\n",
      "[3, ['S53.101A', 'S53.101D', 'S53.101S'], None, [['S53.101A', 'Unspecified subluxation of right ulnohumeral joint, initial encounter'], ['S53.101D', 'Unspecified subluxation of right ulnohumeral joint, subsequent encounter'], ['S53.101S', 'Unspecified subluxation of right ulnohumeral joint, sequela']]]\n",
      "b'[1,[\"B10.89\"],null,[[\"B10.89\",\"Other human herpesvirus infection\"]]]'\n",
      "[1, ['B10.89'], None, [['B10.89', 'Other human herpesvirus infection']]]\n",
      "b'[4,[\"H30.141\",\"H30.142\",\"H30.143\",\"H30.149\"],null,[[\"H30.141\",\"Acute posterior multifocal placoid pigment epitheliopathy, right eye\"],[\"H30.142\",\"Acute posterior multifocal placoid pigment epitheliopathy, left eye\"],[\"H30.143\",\"Acute posterior multifocal placoid pigment epitheliopathy, bilateral\"],[\"H30.149\",\"Acute posterior multifocal placoid pigment epitheliopathy, unspecified eye\"]]]'\n",
      "[4, ['H30.141', 'H30.142', 'H30.143', 'H30.149'], None, [['H30.141', 'Acute posterior multifocal placoid pigment epitheliopathy, right eye'], ['H30.142', 'Acute posterior multifocal placoid pigment epitheliopathy, left eye'], ['H30.143', 'Acute posterior multifocal placoid pigment epitheliopathy, bilateral'], ['H30.149', 'Acute posterior multifocal placoid pigment epitheliopathy, unspecified eye']]]\n",
      "b'[9,[\"S05.90XA\",\"S05.90XD\",\"S05.90XS\",\"S05.91XA\",\"S05.91XD\",\"S05.91XS\",\"S05.92XA\"],null,[[\"S05.90XA\",\"Unspecified injury of unspecified eye and orbit, initial encounter\"],[\"S05.90XD\",\"Unspecified injury of unspecified eye and orbit, subsequent encounter\"],[\"S05.90XS\",\"Unspecified injury of unspecified eye and orbit, sequela\"],[\"S05.91XA\",\"Unspecified injury of right eye and orbit, initial encounter\"],[\"S05.91XD\",\"Unspecified injury of right eye and orbit, subsequent encounter\"],[\"S05.91XS\",\"Unspecified injury of right eye and orbit, sequela\"],[\"S05.92XA\",\"Unspecified injury of left eye and orbit, initial encounter\"]]]'\n",
      "[9, ['S05.90XA', 'S05.90XD', 'S05.90XS', 'S05.91XA', 'S05.91XD', 'S05.91XS', 'S05.92XA'], None, [['S05.90XA', 'Unspecified injury of unspecified eye and orbit, initial encounter'], ['S05.90XD', 'Unspecified injury of unspecified eye and orbit, subsequent encounter'], ['S05.90XS', 'Unspecified injury of unspecified eye and orbit, sequela'], ['S05.91XA', 'Unspecified injury of right eye and orbit, initial encounter'], ['S05.91XD', 'Unspecified injury of right eye and orbit, subsequent encounter'], ['S05.91XS', 'Unspecified injury of right eye and orbit, sequela'], ['S05.92XA', 'Unspecified injury of left eye and orbit, initial encounter']]]\n",
      "b'[1,[\"E29.1\"],null,[[\"E29.1\",\"Testicular hypofunction\"]]]'\n",
      "[1, ['E29.1'], None, [['E29.1', 'Testicular hypofunction']]]\n",
      "b'[1,[\"B67.8\"],null,[[\"B67.8\",\"Echinococcosis, unspecified, of liver\"]]]'\n",
      "[1, ['B67.8'], None, [['B67.8', 'Echinococcosis, unspecified, of liver']]]\n",
      "b'[1,[\"D49.519\"],null,[[\"D49.519\",\"Neoplasm of unspecified behavior of unspecified kidney\"]]]'\n",
      "[1, ['D49.519'], None, [['D49.519', 'Neoplasm of unspecified behavior of unspecified kidney']]]\n"
     ]
    }
   ],
   "source": [
    "#add correct description\n",
    "official_batches = []\n",
    "for row in df_diag[\"response_descr\"].to_list():\n",
    "    json_resp = json.loads(row)\n",
    "    row_official = []\n",
    "    for item in json_resp:\n",
    "        new_item = {}\n",
    "        new_item['ICD-10-code'] = item[\"ICD-10-code\"]\n",
    "        new_item['Predicted'] = item[\"Description\"]\n",
    "        new_item[\"Actual\"] = get_code_description(item[\"ICD-10-code\"])\n",
    "        row_official.append(new_item)\n",
    "    official_batches.append(row_official)\n",
    "df_diag[\"official\"] = official_batches\n"
   ]
  },
  {
   "cell_type": "code",
   "execution_count": 53,
   "metadata": {},
   "outputs": [
    {
     "name": "stdout",
     "output_type": "stream",
     "text": [
      "   Unnamed: 0                                               diag  \\\n",
      "0           0  ['i75.89', 'h00.11', 'k92.0', 'm35.9', 'i85.01...   \n",
      "1           1  ['j82', 'r47.02', 'e11.64', 'e23.2', 's70.312'...   \n",
      "2           2  ['e80.4', 'm54.31', 'e87.1', 'r06.4', 'c43.9',...   \n",
      "3           3  ['h31.309', 'i44.2', 'h05.20', 'f60.7', 'k83.8...   \n",
      "4           4  ['k56.2', 'h50.21', 'r01.0', 'k42.9', 'm26.619...   \n",
      "\n",
      "                                        prompt_descr  \\\n",
      "0  Add for each code ICD-10 the correct descripti...   \n",
      "1  Add for each code ICD-10 the correct descripti...   \n",
      "2  Add for each code ICD-10 the correct descripti...   \n",
      "3  Add for each code ICD-10 the correct descripti...   \n",
      "4  Add for each code ICD-10 the correct descripti...   \n",
      "\n",
      "                                      response_descr  \\\n",
      "0  [    {\"ICD-10-code\": \"i75.89\", \"Description\": ...   \n",
      "1  [\\n  {\"ICD-10-code\": \"j82\", \"Description\": \"Pu...   \n",
      "2   [\\n  {\"ICD-10-code\": \"e80.4\", \"Description\": ...   \n",
      "3   [\\n  {\"ICD-10-code\": \"h31.309\", \"Description\"...   \n",
      "4   [\\n  {\"ICD-10-code\": \"k56.2\", \"Description\": ...   \n",
      "\n",
      "                                            official  \n",
      "0  [{'ICD-10-code': 'i75.89', 'Predicted': 'Other...  \n",
      "1  [{'ICD-10-code': 'j82', 'Predicted': 'Pulmonar...  \n",
      "2  [{'ICD-10-code': 'e80.4', 'Predicted': 'Gilber...  \n",
      "3  [{'ICD-10-code': 'h31.309', 'Predicted': 'Unsp...  \n",
      "4  [{'ICD-10-code': 'k56.2', 'Predicted': 'Volvul...  \n"
     ]
    }
   ],
   "source": [
    "print(df_diag.head())"
   ]
  },
  {
   "cell_type": "code",
   "execution_count": 54,
   "metadata": {},
   "outputs": [
    {
     "name": "stdout",
     "output_type": "stream",
     "text": [
      "Evaluate the \"Predicted\" with the \"Actual\" code description in the json. \"Predicted\" and \"Actual\" do need to be strictly equal, but the meaning has to be similar. Add a field \"Eval\" to the json for the boolean outcome and a field \"Confidence\" for the confidence that your evaluation is correct [\"LOW\", \"MED\", \"HIGH\"]. Here is the json: [{'ICD-10-code': 'i75.89', 'Predicted': 'Other specified atherosclerosis', 'Actual': 'Atheroembolism of other site'}, {'ICD-10-code': 'h00.11', 'Predicted': 'Primary chalazion right lower eyelid', 'Actual': 'Chalazion right upper eyelid'}, {'ICD-10-code': 'k92.0', 'Predicted': 'Hematemesis', 'Actual': 'Hematemesis'}, {'ICD-10-code': 'm35.9', 'Predicted': 'Systemic involvement of connective tissue, unspecified', 'Actual': 'Systemic involvement of connective tissue, unspecified'}, {'ICD-10-code': 'i85.01', 'Predicted': 'Esophageal varices with bleeding', 'Actual': 'Esophageal varices with bleeding'}, {'ICD-10-code': 's25.02x', 'Predicted': 'Injury of thoracic aorta, initial encounter', 'Actual': 'Major laceration of thoracic aorta, initial encounter'}, {'ICD-10-code': 'h43.10', 'Predicted': 'Vitreous prolapse, unspecified eye', 'Actual': 'Vitreous hemorrhage, unspecified eye'}, {'ICD-10-code': 'b65.1', 'Predicted': 'Schistosomiasis due to Schistosoma haematobium', 'Actual': 'Schistosomiasis due to Schistosoma mansoni [intestinal schistosomiasis]'}, {'ICD-10-code': 'j34.9', 'Predicted': 'Unspecified disorder of nose and nasal sinuses', 'Actual': 'Unspecified disorder of nose and nasal sinuses'}, {'ICD-10-code': 'k80.5', 'Predicted': 'Biliary cystic disease', 'Actual': 'Calculus of bile duct without cholangitis or cholecystitis without obstruction'}]\n"
     ]
    }
   ],
   "source": [
    "def get_prompt_eval(official):\n",
    "    prompt = \"\"\"Evaluate the \"Predicted\" with the \"Actual\" code description in the json. \"Predicted\" and \"Actual\" do need to be strictly equal, but the meaning has to be similar. Add a field \"Eval\" to the json for the boolean outcome and a field \"Confidence\" for the confidence that your evaluation is correct [\"LOW\", \"MED\", \"HIGH\"]. Here is the json: \"\"\" + str(official)\n",
    "    return prompt\n",
    "\n",
    "print(get_prompt_eval(df_diag[\"official\"].iloc[0]))"
   ]
  },
  {
   "cell_type": "code",
   "execution_count": 55,
   "metadata": {},
   "outputs": [],
   "source": [
    "df_diag[\"prompt_eval\"] = df_diag[\"official\"].apply(get_prompt_eval)"
   ]
  },
  {
   "cell_type": "code",
   "execution_count": 56,
   "metadata": {},
   "outputs": [],
   "source": [
    "df_diag.to_excel('resources/prompts-diagnoses.xlsx')"
   ]
  },
  {
   "cell_type": "code",
   "execution_count": 58,
   "metadata": {},
   "outputs": [],
   "source": [
    "df_diag = pd.read_excel('resources/prompts-diagnoses.xlsx')"
   ]
  },
  {
   "cell_type": "code",
   "execution_count": 59,
   "metadata": {},
   "outputs": [
    {
     "data": {
      "text/html": [
       "<div>\n",
       "<style scoped>\n",
       "    .dataframe tbody tr th:only-of-type {\n",
       "        vertical-align: middle;\n",
       "    }\n",
       "\n",
       "    .dataframe tbody tr th {\n",
       "        vertical-align: top;\n",
       "    }\n",
       "\n",
       "    .dataframe thead th {\n",
       "        text-align: right;\n",
       "    }\n",
       "</style>\n",
       "<table border=\"1\" class=\"dataframe\">\n",
       "  <thead>\n",
       "    <tr style=\"text-align: right;\">\n",
       "      <th></th>\n",
       "      <th>Unnamed: 0.1</th>\n",
       "      <th>Unnamed: 0</th>\n",
       "      <th>diag</th>\n",
       "      <th>prompt_descr</th>\n",
       "      <th>response_descr</th>\n",
       "      <th>official</th>\n",
       "      <th>prompt_eval</th>\n",
       "      <th>response_eval</th>\n",
       "    </tr>\n",
       "  </thead>\n",
       "  <tbody>\n",
       "    <tr>\n",
       "      <th>0</th>\n",
       "      <td>0</td>\n",
       "      <td>0</td>\n",
       "      <td>['i75.89', 'h00.11', 'k92.0', 'm35.9', 'i85.01...</td>\n",
       "      <td>Add for each code ICD-10 the correct descripti...</td>\n",
       "      <td>[    {\"ICD-10-code\": \"i75.89\", \"Description\": ...</td>\n",
       "      <td>[{'ICD-10-code': 'i75.89', 'Predicted': 'Other...</td>\n",
       "      <td>Evaluate the \"Predicted\" with the \"Actual\" cod...</td>\n",
       "      <td>[\\n    {\\n        \"ICD-10-code\": \"i75.89\",\\n  ...</td>\n",
       "    </tr>\n",
       "    <tr>\n",
       "      <th>1</th>\n",
       "      <td>1</td>\n",
       "      <td>1</td>\n",
       "      <td>['j82', 'r47.02', 'e11.64', 'e23.2', 's70.312'...</td>\n",
       "      <td>Add for each code ICD-10 the correct descripti...</td>\n",
       "      <td>[\\n  {\"ICD-10-code\": \"j82\", \"Description\": \"Pu...</td>\n",
       "      <td>[{'ICD-10-code': 'j82', 'Predicted': 'Pulmonar...</td>\n",
       "      <td>Evaluate the \"Predicted\" with the \"Actual\" cod...</td>\n",
       "      <td>[\\n    {\\n        \"ICD-10-code\": \"j82\",\\n     ...</td>\n",
       "    </tr>\n",
       "    <tr>\n",
       "      <th>2</th>\n",
       "      <td>2</td>\n",
       "      <td>2</td>\n",
       "      <td>['e80.4', 'm54.31', 'e87.1', 'r06.4', 'c43.9',...</td>\n",
       "      <td>Add for each code ICD-10 the correct descripti...</td>\n",
       "      <td>[\\n  {\"ICD-10-code\": \"e80.4\", \"Description\": ...</td>\n",
       "      <td>[{'ICD-10-code': 'e80.4', 'Predicted': 'Gilber...</td>\n",
       "      <td>Evaluate the \"Predicted\" with the \"Actual\" cod...</td>\n",
       "      <td>[\\n    {\\n        \"ICD-10-code\": \"e80.4\",\\n   ...</td>\n",
       "    </tr>\n",
       "    <tr>\n",
       "      <th>3</th>\n",
       "      <td>3</td>\n",
       "      <td>3</td>\n",
       "      <td>['h31.309', 'i44.2', 'h05.20', 'f60.7', 'k83.8...</td>\n",
       "      <td>Add for each code ICD-10 the correct descripti...</td>\n",
       "      <td>[\\n  {\"ICD-10-code\": \"h31.309\", \"Description\"...</td>\n",
       "      <td>[{'ICD-10-code': 'h31.309', 'Predicted': 'Unsp...</td>\n",
       "      <td>Evaluate the \"Predicted\" with the \"Actual\" cod...</td>\n",
       "      <td>[\\n    {\\n        \"ICD-10-code\": \"h31.309\",\\n ...</td>\n",
       "    </tr>\n",
       "    <tr>\n",
       "      <th>4</th>\n",
       "      <td>4</td>\n",
       "      <td>4</td>\n",
       "      <td>['k56.2', 'h50.21', 'r01.0', 'k42.9', 'm26.619...</td>\n",
       "      <td>Add for each code ICD-10 the correct descripti...</td>\n",
       "      <td>[\\n  {\"ICD-10-code\": \"k56.2\", \"Description\": ...</td>\n",
       "      <td>[{'ICD-10-code': 'k56.2', 'Predicted': 'Volvul...</td>\n",
       "      <td>Evaluate the \"Predicted\" with the \"Actual\" cod...</td>\n",
       "      <td>[\\n    {\\n        \"ICD-10-code\": \"k56.2\",\\n   ...</td>\n",
       "    </tr>\n",
       "  </tbody>\n",
       "</table>\n",
       "</div>"
      ],
      "text/plain": [
       "   Unnamed: 0.1  Unnamed: 0  \\\n",
       "0             0           0   \n",
       "1             1           1   \n",
       "2             2           2   \n",
       "3             3           3   \n",
       "4             4           4   \n",
       "\n",
       "                                                diag  \\\n",
       "0  ['i75.89', 'h00.11', 'k92.0', 'm35.9', 'i85.01...   \n",
       "1  ['j82', 'r47.02', 'e11.64', 'e23.2', 's70.312'...   \n",
       "2  ['e80.4', 'm54.31', 'e87.1', 'r06.4', 'c43.9',...   \n",
       "3  ['h31.309', 'i44.2', 'h05.20', 'f60.7', 'k83.8...   \n",
       "4  ['k56.2', 'h50.21', 'r01.0', 'k42.9', 'm26.619...   \n",
       "\n",
       "                                        prompt_descr  \\\n",
       "0  Add for each code ICD-10 the correct descripti...   \n",
       "1  Add for each code ICD-10 the correct descripti...   \n",
       "2  Add for each code ICD-10 the correct descripti...   \n",
       "3  Add for each code ICD-10 the correct descripti...   \n",
       "4  Add for each code ICD-10 the correct descripti...   \n",
       "\n",
       "                                      response_descr  \\\n",
       "0  [    {\"ICD-10-code\": \"i75.89\", \"Description\": ...   \n",
       "1  [\\n  {\"ICD-10-code\": \"j82\", \"Description\": \"Pu...   \n",
       "2   [\\n  {\"ICD-10-code\": \"e80.4\", \"Description\": ...   \n",
       "3   [\\n  {\"ICD-10-code\": \"h31.309\", \"Description\"...   \n",
       "4   [\\n  {\"ICD-10-code\": \"k56.2\", \"Description\": ...   \n",
       "\n",
       "                                            official  \\\n",
       "0  [{'ICD-10-code': 'i75.89', 'Predicted': 'Other...   \n",
       "1  [{'ICD-10-code': 'j82', 'Predicted': 'Pulmonar...   \n",
       "2  [{'ICD-10-code': 'e80.4', 'Predicted': 'Gilber...   \n",
       "3  [{'ICD-10-code': 'h31.309', 'Predicted': 'Unsp...   \n",
       "4  [{'ICD-10-code': 'k56.2', 'Predicted': 'Volvul...   \n",
       "\n",
       "                                         prompt_eval  \\\n",
       "0  Evaluate the \"Predicted\" with the \"Actual\" cod...   \n",
       "1  Evaluate the \"Predicted\" with the \"Actual\" cod...   \n",
       "2  Evaluate the \"Predicted\" with the \"Actual\" cod...   \n",
       "3  Evaluate the \"Predicted\" with the \"Actual\" cod...   \n",
       "4  Evaluate the \"Predicted\" with the \"Actual\" cod...   \n",
       "\n",
       "                                       response_eval  \n",
       "0  [\\n    {\\n        \"ICD-10-code\": \"i75.89\",\\n  ...  \n",
       "1  [\\n    {\\n        \"ICD-10-code\": \"j82\",\\n     ...  \n",
       "2  [\\n    {\\n        \"ICD-10-code\": \"e80.4\",\\n   ...  \n",
       "3  [\\n    {\\n        \"ICD-10-code\": \"h31.309\",\\n ...  \n",
       "4  [\\n    {\\n        \"ICD-10-code\": \"k56.2\",\\n   ...  "
      ]
     },
     "execution_count": 59,
     "metadata": {},
     "output_type": "execute_result"
    }
   ],
   "source": [
    "df_diag.head()"
   ]
  },
  {
   "cell_type": "code",
   "execution_count": 63,
   "metadata": {},
   "outputs": [
    {
     "name": "stdout",
     "output_type": "stream",
     "text": [
      "[{'ICD-10-code': 'i75.89', 'Predicted': 'Other specified atherosclerosis', 'Actual': 'Atheroembolism of other site', 'Eval': False, 'Confidence': 'HIGH'}, {'ICD-10-code': 'h00.11', 'Predicted': 'Primary chalazion right lower eyelid', 'Actual': 'Chalazion right upper eyelid', 'Eval': False, 'Confidence': 'HIGH'}, {'ICD-10-code': 'k92.0', 'Predicted': 'Hematemesis', 'Actual': 'Hematemesis', 'Eval': True, 'Confidence': 'HIGH'}, {'ICD-10-code': 'm35.9', 'Predicted': 'Systemic involvement of connective tissue, unspecified', 'Actual': 'Systemic involvement of connective tissue, unspecified', 'Eval': True, 'Confidence': 'HIGH'}, {'ICD-10-code': 'i85.01', 'Predicted': 'Esophageal varices with bleeding', 'Actual': 'Esophageal varices with bleeding', 'Eval': True, 'Confidence': 'HIGH'}, {'ICD-10-code': 's25.02x', 'Predicted': 'Injury of thoracic aorta, initial encounter', 'Actual': 'Major laceration of thoracic aorta, initial encounter', 'Eval': False, 'Confidence': 'HIGH'}, {'ICD-10-code': 'h43.10', 'Predicted': 'Vitreous prolapse, unspecified eye', 'Actual': 'Vitreous hemorrhage, unspecified eye', 'Eval': False, 'Confidence': 'HIGH'}, {'ICD-10-code': 'b65.1', 'Predicted': 'Schistosomiasis due to Schistosoma haematobium', 'Actual': 'Schistosomiasis due to Schistosoma mansoni [intestinal schistosomiasis]', 'Eval': False, 'Confidence': 'HIGH'}, {'ICD-10-code': 'j34.9', 'Predicted': 'Unspecified disorder of nose and nasal sinuses', 'Actual': 'Unspecified disorder of nose and nasal sinuses', 'Eval': True, 'Confidence': 'HIGH'}, {'ICD-10-code': 'k80.5', 'Predicted': 'Biliary cystic disease', 'Actual': 'Calculus of bile duct without cholangitis or cholecystitis without obstruction', 'Eval': False, 'Confidence': 'HIGH'}, {'ICD-10-code': 'j82', 'Predicted': 'Pulmonary eosinophilia, not elsewhere classified', 'Actual': 'Chronic eosinophilic pneumonia', 'Eval': False, 'Confidence': 'HIGH'}, {'ICD-10-code': 'r47.02', 'Predicted': 'Palilalia', 'Actual': 'Dysphasia', 'Eval': False, 'Confidence': 'HIGH'}, {'ICD-10-code': 'e11.64', 'Predicted': 'Type 2 diabetes mellitus with hypoglycemia', 'Actual': 'Type 2 diabetes mellitus with hypoglycemia with coma', 'Eval': False, 'Confidence': 'MED'}, {'ICD-10-code': 'e23.2', 'Predicted': 'Diabetes insipidus', 'Actual': 'Diabetes insipidus', 'Eval': True, 'Confidence': 'HIGH'}, {'ICD-10-code': 's70.312', 'Predicted': 'Abrasion of thigh, left side', 'Actual': 'Abrasion, left thigh, initial encounter', 'Eval': True, 'Confidence': 'HIGH'}, {'ICD-10-code': 'l00', 'Predicted': 'Staphylococcal scalded skin syndrome', 'Actual': 'Staphylococcal scalded skin syndrome', 'Eval': True, 'Confidence': 'HIGH'}, {'ICD-10-code': 'b46.5', 'Predicted': 'Gastrointestinal mucormycosis', 'Actual': 'Mucormycosis, unspecified', 'Eval': False, 'Confidence': 'HIGH'}, {'ICD-10-code': 'm26.609', 'Predicted': 'Unspecified disorder of temporomandibular joint, unspecified side', 'Actual': 'Unspecified temporomandibular joint disorder, unspecified side', 'Eval': True, 'Confidence': 'HIGH'}, {'ICD-10-code': 'k06.2', 'Predicted': 'Abnormalities of the tongue', 'Actual': 'Gingival and edentulous alveolar ridge lesions associated with trauma', 'Eval': False, 'Confidence': 'HIGH'}, {'ICD-10-code': 'm86.68', 'Predicted': 'Other acute osteomyelitis, other site', 'Actual': 'Other chronic osteomyelitis, other site', 'Eval': False, 'Confidence': 'HIGH'}, {'ICD-10-code': 'e80.4', 'Predicted': 'Gilbert syndrome', 'Actual': 'Gilbert syndrome', 'Eval': True, 'Confidence': 'HIGH'}, {'ICD-10-code': 'm54.31', 'Predicted': 'Sciatica, right side', 'Actual': 'Sciatica, right side', 'Eval': True, 'Confidence': 'HIGH'}, {'ICD-10-code': 'e87.1', 'Predicted': 'HypOsmolality and hyponatremia', 'Actual': 'Hypo-osmolality and hyponatremia', 'Eval': True, 'Confidence': 'HIGH'}, {'ICD-10-code': 'r06.4', 'Predicted': 'Hyperventilation', 'Actual': 'Hyperventilation', 'Eval': True, 'Confidence': 'HIGH'}, {'ICD-10-code': 'c43.9', 'Predicted': 'Malignant melanoma of skin, unspecified', 'Actual': 'Malignant melanoma of skin, unspecified', 'Eval': True, 'Confidence': 'HIGH'}, {'ICD-10-code': 'm80.88x', 'Predicted': 'Other osteoporosis with current pathological fracture, other site', 'Actual': 'Other osteoporosis with current pathological fracture, vertebra(e), initial encounter for fracture', 'Eval': False, 'Confidence': 'HIGH'}, {'ICD-10-code': 'd16.9', 'Predicted': 'Benign neoplasm of bone and articular cartilage, unspecified', 'Actual': 'Benign neoplasm of bone and articular cartilage, unspecified', 'Eval': True, 'Confidence': 'HIGH'}, {'ICD-10-code': 'd69.3', 'Predicted': 'Immune thrombocytopenic purpura', 'Actual': 'Immune thrombocytopenic purpura', 'Eval': True, 'Confidence': 'HIGH'}, {'ICD-10-code': 'd89.1', 'Predicted': 'Chronic lymphocytic leukemia of B-cell type', 'Actual': 'Cryoglobulinemia', 'Eval': False, 'Confidence': 'HIGH'}, {'ICD-10-code': 'n39.44', 'Predicted': 'Nocturnal enuresis', 'Actual': 'Nocturnal enuresis', 'Eval': True, 'Confidence': 'HIGH'}, {'ICD-10-code': 'h31.309', 'Predicted': 'Unspecified degenerative retinoschisis, unspecified eye', 'Actual': 'Unspecified choroidal hemorrhage, unspecified eye', 'Eval': False, 'Confidence': 'HIGH'}, {'ICD-10-code': 'i44.2', 'Predicted': 'Atrioventricular block, complete', 'Actual': 'Atrioventricular block, complete', 'Eval': True, 'Confidence': 'HIGH'}, {'ICD-10-code': 'h05.20', 'Predicted': 'Exophthalmos, unspecified', 'Actual': 'Unspecified exophthalmos', 'Eval': True, 'Confidence': 'HIGH'}, {'ICD-10-code': 'f60.7', 'Predicted': 'Dependent personality disorder', 'Actual': 'Dependent personality disorder', 'Eval': True, 'Confidence': 'HIGH'}, {'ICD-10-code': 'k83.8', 'Predicted': 'Other specified diseases of biliary tract', 'Actual': 'Other specified diseases of biliary tract', 'Eval': True, 'Confidence': 'HIGH'}, {'ICD-10-code': 'n30.80', 'Predicted': 'Interstitial cystitis (chronic) without hematuria', 'Actual': 'Other cystitis without hematuria', 'Eval': False, 'Confidence': 'HIGH'}, {'ICD-10-code': 'p83.8', 'Predicted': 'Other specified conditions of integument specific to newborn', 'Actual': 'Umbilical granuloma', 'Eval': False, 'Confidence': 'HIGH'}, {'ICD-10-code': 'r00.2', 'Predicted': 'Palpitations', 'Actual': 'Palpitations', 'Eval': True, 'Confidence': 'HIGH'}, {'ICD-10-code': 'z97.5', 'Predicted': 'Presence of (functional) cardiac pacemaker', 'Actual': 'Presence of (intrauterine) contraceptive device', 'Eval': False, 'Confidence': 'HIGH'}, {'ICD-10-code': 'm25.541', 'Predicted': 'Pain in joints of right hand', 'Actual': 'Pain in joints of right hand', 'Eval': True, 'Confidence': 'HIGH'}, {'ICD-10-code': 'k56.2', 'Predicted': 'Volvulus', 'Actual': 'Volvulus', 'Eval': True, 'Confidence': 'HIGH'}, {'ICD-10-code': 'h50.21', 'Predicted': 'Esotropia, right eye', 'Actual': 'Vertical strabismus, right eye', 'Eval': False, 'Confidence': 'HIGH'}, {'ICD-10-code': 'r01.0', 'Predicted': 'Benign and innocent cardiac murmurs', 'Actual': 'Benign and innocent cardiac murmurs', 'Eval': True, 'Confidence': 'HIGH'}, {'ICD-10-code': 'k42.9', 'Predicted': 'Umbilical hernia without obstruction or gangrene', 'Actual': 'Umbilical hernia without obstruction or gangrene', 'Eval': True, 'Confidence': 'HIGH'}, {'ICD-10-code': 'm26.619', 'Predicted': 'Temporomandibular joint disorder, unspecified side', 'Actual': 'Adhesions and ankylosis of temporomandibular joint, unspecified side', 'Eval': False, 'Confidence': 'HIGH'}, {'ICD-10-code': 'd53.1', 'Predicted': 'Transcobalamin II deficiency', 'Actual': 'Other megaloblastic anemias, not elsewhere classified', 'Eval': False, 'Confidence': 'HIGH'}, {'ICD-10-code': 'n43.3', 'Predicted': 'Other hydrocele', 'Actual': 'Hydrocele, unspecified', 'Eval': False, 'Confidence': 'MED'}, {'ICD-10-code': 'h02.411', 'Predicted': 'Senile entropion of right upper eyelid', 'Actual': 'Mechanical ptosis of right eyelid', 'Eval': False, 'Confidence': 'HIGH'}, {'ICD-10-code': 'm35.2', 'Predicted': \"Behcet's syndrome\", 'Actual': \"Behcet's disease\", 'Eval': True, 'Confidence': 'MED'}, {'ICD-10-code': 'k04.8', 'Predicted': 'Other specified diseases of pulp and periapical tissues', 'Actual': 'Radicular cyst', 'Eval': False, 'Confidence': 'HIGH'}, {'ICD-10-code': 'd17.5', 'Predicted': 'Benign lipomatous neoplasm of skin and subcutaneous tissue of other and unspecified sites', 'Actual': 'Benign lipomatous neoplasm of intra-abdominal organs', 'Eval': False, 'Confidence': 'HIGH'}, {'ICD-10-code': 'h11.002', 'Predicted': 'Unspecified pterygium of left eye, unspecified eye', 'Actual': 'Unspecified pterygium of left eye', 'Eval': True, 'Confidence': 'MED'}, {'ICD-10-code': 'c85.9', 'Predicted': 'Non-Hodgkin lymphoma, unspecified type, unspecified site', 'Actual': 'Non-Hodgkin lymphoma, unspecified, unspecified site', 'Eval': True, 'Confidence': 'HIGH'}, {'ICD-10-code': 'c66.1', 'Predicted': 'Malignant neoplasm of ureter', 'Actual': 'Malignant neoplasm of right ureter', 'Eval': False, 'Confidence': 'MED'}, {'ICD-10-code': 'h11.422', 'Predicted': 'Vortex keratopathy, left eye', 'Actual': 'Conjunctival edema, left eye', 'Eval': False, 'Confidence': 'HIGH'}, {'ICD-10-code': 'c78.7', 'Predicted': 'Secondary malignant neoplasm of liver and intrahepatic bile duct', 'Actual': 'Secondary malignant neoplasm of liver and intrahepatic bile duct', 'Eval': True, 'Confidence': 'HIGH'}, {'ICD-10-code': 't14.91', 'Predicted': 'Traumatic shock', 'Actual': 'Suicide attempt, initial encounter', 'Eval': False, 'Confidence': 'HIGH'}, {'ICD-10-code': 'k06.9', 'Predicted': 'Gingival and edentulous alveolar ridge disorders, unspecified', 'Actual': 'Disorder of gingiva and edentulous alveolar ridge, unspecified', 'Eval': True, 'Confidence': 'HIGH'}, {'ICD-10-code': 'n05.9', 'Predicted': 'Unspecified nephritic syndrome, with unspecified pathological lesion in kidney', 'Actual': 'Unspecified nephritic syndrome with unspecified morphologic changes', 'Eval': True, 'Confidence': 'MED'}, {'ICD-10-code': 'k37', 'Predicted': 'Unspecified appendicitis', 'Actual': 'Unspecified appendicitis', 'Eval': True, 'Confidence': 'HIGH'}, {'ICD-10-code': 'd86.9', 'Predicted': 'Sarcoidosis, unspecified', 'Actual': 'Sarcoidosis, unspecified', 'Eval': True, 'Confidence': 'HIGH'}, {'ICD-10-code': 'r19.8', 'Predicted': 'Other specified symptoms and signs involving the digestive system and abdomen', 'Actual': 'Other specified symptoms and signs involving the digestive system and abdomen', 'Eval': True, 'Confidence': 'HIGH'}, {'ICD-10-code': 'f32.3', 'Predicted': 'Major depressive disorder, single episode, severe with psychotic features', 'Actual': 'Major depressive disorder, single episode, severe with psychotic features', 'Eval': True, 'Confidence': 'HIGH'}, {'ICD-10-code': 'd37.8', 'Predicted': 'Neoplasm of uncertain behavior of other and unspecified digestive organs', 'Actual': 'Neoplasm of uncertain behavior of other specified digestive organs', 'Eval': False, 'Confidence': 'MED'}, {'ICD-10-code': 'g20', 'Predicted': \"Parkinson's disease\", 'Actual': \"Parkinson's disease\", 'Eval': True, 'Confidence': 'HIGH'}, {'ICD-10-code': 'i35.8', 'Predicted': 'Other nonrheumatic aortic valve disorders', 'Actual': 'Other nonrheumatic aortic valve disorders', 'Eval': True, 'Confidence': 'HIGH'}, {'ICD-10-code': 's06.9x', 'Predicted': 'Unspecified intracranial injury', 'Actual': 'Unspecified intracranial injury without loss of consciousness, initial encounter', 'Eval': False, 'Confidence': 'HIGH'}, {'ICD-10-code': 'd72.819', 'Predicted': 'Eosinophilia, unspecified', 'Actual': 'Decreased white blood cell count, unspecified', 'Eval': False, 'Confidence': 'HIGH'}, {'ICD-10-code': 'd41.4', 'Predicted': 'Neoplasm of uncertain behavior of bladder', 'Actual': 'Neoplasm of uncertain behavior of bladder', 'Eval': True, 'Confidence': 'HIGH'}, {'ICD-10-code': 's06.4x0', 'Predicted': 'Epidural hemorrhage without loss of consciousness', 'Actual': 'Epidural hemorrhage without loss of consciousness, initial encounter', 'Eval': False, 'Confidence': 'HIGH'}, {'ICD-10-code': 'a63.0', 'Predicted': 'Anogenital (venereal) warts', 'Actual': 'Anogenital (venereal) warts', 'Eval': True, 'Confidence': 'HIGH'}, {'ICD-10-code': 'd73.4', 'Predicted': 'Polycystic liver disease', 'Actual': 'Cyst of spleen', 'Eval': False, 'Confidence': 'HIGH'}, {'ICD-10-code': 'c83.39', 'Predicted': 'Diffuse large B-cell lymphoma, extranodal and solid organ sites', 'Actual': 'Diffuse large B-cell lymphoma, extranodal and solid organ sites', 'Eval': True, 'Confidence': 'HIGH'}, {'ICD-10-code': 'c53.9', 'Predicted': 'Malignant neoplasm of cervix uteri, unspecified', 'Actual': 'Malignant neoplasm of cervix uteri, unspecified', 'Eval': True, 'Confidence': 'HIGH'}, {'ICD-10-code': 'i88.1', 'Predicted': 'Chronic lymphadenitis, except mesenteric', 'Actual': 'Chronic lymphadenitis, except mesenteric', 'Eval': True, 'Confidence': 'HIGH'}, {'ICD-10-code': 'i48.92', 'Predicted': 'Unspecified atrial fibrillation', 'Actual': 'Unspecified atrial flutter', 'Eval': False, 'Confidence': 'HIGH'}, {'ICD-10-code': 'd44.7', 'Predicted': 'Neoplasm of uncertain behavior of endocrine glands, unspecified', 'Actual': 'Neoplasm of uncertain behavior of aortic body and other paraganglia', 'Eval': False, 'Confidence': 'HIGH'}, {'ICD-10-code': 's32.9', 'Predicted': 'Fracture of lumbar spine and pelvis, part unspecified', 'Actual': 'Fracture of unspecified parts of lumbosacral spine and pelvis, initial encounter for closed fracture', 'Eval': False, 'Confidence': 'MED'}, {'ICD-10-code': 'g58.9', 'Predicted': 'Mononeuropathy, unspecified', 'Actual': 'Mononeuropathy, unspecified', 'Eval': True, 'Confidence': 'HIGH'}, {'ICD-10-code': 'e27.49', 'Predicted': 'Other specified adrenal insufficiency', 'Actual': 'Other adrenocortical insufficiency', 'Eval': True, 'Confidence': 'MED'}, {'ICD-10-code': 'i63.511', 'Predicted': 'Cerebral infarction due to unspecified occlusion or stenosis of right middle cerebral artery', 'Actual': 'Cerebral infarction due to unspecified occlusion or stenosis of right middle cerebral artery', 'Eval': True, 'Confidence': 'HIGH'}, {'ICD-10-code': 'l02.41', 'Predicted': 'Cutaneous abscess of buttock', 'Actual': 'Cutaneous abscess of right axilla', 'Eval': False, 'Confidence': 'HIGH'}, {'ICD-10-code': 'h21.42', 'Predicted': 'Pseudophakic bullous keratopathy', 'Actual': 'Pupillary membranes, left eye', 'Eval': False, 'Confidence': 'HIGH'}, {'ICD-10-code': 'k52.82', 'Predicted': 'Eosinophilic gastritis or gastroenteritis', 'Actual': 'Eosinophilic colitis', 'Eval': False, 'Confidence': 'HIGH'}, {'ICD-10-code': 'm87.059', 'Predicted': 'Idiopathic aseptic necrosis of bone, unspecified site', 'Actual': 'Idiopathic aseptic necrosis of unspecified femur', 'Eval': True, 'Confidence': 'MED'}, {'ICD-10-code': 's39.94x', 'Predicted': 'Unspecified injury of lower abdomen, lower back, pelvis and external genitals', 'Actual': 'Unspecified injury of external genitals, initial encounter', 'Eval': False, 'Confidence': 'HIGH'}, {'ICD-10-code': 'h54.0', 'Predicted': 'Blindness, both eyes', 'Actual': 'Blindness right eye category 3, blindness left eye category 3', 'Eval': True, 'Confidence': 'MED'}, {'ICD-10-code': 'b45.2', 'Predicted': 'Cryptococcal meningitis', 'Actual': 'Cutaneous cryptococcosis', 'Eval': False, 'Confidence': 'HIGH'}, {'ICD-10-code': 'g04.1', 'Predicted': 'Allergic encephalitis', 'Actual': 'Tropical spastic paraplegia', 'Eval': False, 'Confidence': 'HIGH'}, {'ICD-10-code': 'e06.3', 'Predicted': 'Autoimmune thyroiditis', 'Actual': 'Autoimmune thyroiditis', 'Eval': True, 'Confidence': 'HIGH'}, {'ICD-10-code': 'd40.11', 'Predicted': 'Neoplasm of uncertain behavior of right parathyroid gland', 'Actual': 'Neoplasm of uncertain behavior of right testis', 'Eval': False, 'Confidence': 'HIGH'}, {'ICD-10-code': 'e75.5', 'Predicted': 'Other lipid storage disorders', 'Actual': 'Other lipid storage disorders', 'Eval': True, 'Confidence': 'HIGH'}, {'ICD-10-code': 'd44.4', 'Predicted': 'Neoplasm of uncertain behavior of adrenal gland', 'Actual': 'Neoplasm of uncertain behavior of craniopharyngeal duct', 'Eval': False, 'Confidence': 'HIGH'}, {'ICD-10-code': 's53.101', 'Predicted': 'Unspecified dislocation of right elbow', 'Actual': 'Unspecified subluxation of right ulnohumeral joint, initial encounter', 'Eval': False, 'Confidence': 'HIGH'}, {'ICD-10-code': 'b10.89', 'Predicted': 'Other human herpesvirus infections', 'Actual': 'Other human herpesvirus infection', 'Eval': True, 'Confidence': 'HIGH'}, {'ICD-10-code': 'h30.14', 'Predicted': 'Exudative age-related macular degeneration of unspecified eye', 'Actual': 'Acute posterior multifocal placoid pigment epitheliopathy, right eye', 'Eval': False, 'Confidence': 'HIGH'}, {'ICD-10-code': 's05.9', 'Predicted': 'Injury of eye and orbit, part unspecified', 'Actual': 'Unspecified injury of unspecified eye and orbit, initial encounter', 'Eval': True, 'Confidence': 'MED'}, {'ICD-10-code': 'e29.1', 'Predicted': 'Testicular hypofunction', 'Actual': 'Testicular hypofunction', 'Eval': True, 'Confidence': 'HIGH'}, {'ICD-10-code': 'b67.8', 'Predicted': 'Echinococcosis of other specified organs', 'Actual': 'Echinococcosis, unspecified, of liver', 'Eval': False, 'Confidence': 'HIGH'}, {'ICD-10-code': 'd49.519', 'Predicted': 'Neoplasm of unspecified behavior of unspecified site of female genital organs', 'Actual': 'Neoplasm of unspecified behavior of unspecified kidney', 'Eval': False, 'Confidence': 'HIGH'}]\n"
     ]
    }
   ],
   "source": [
    "reponses = df_diag[\"response_eval\"].to_list()\n",
    "responses_json = [json.loads(resp) for resp in reponses]\n",
    "responses_json_flat = [item for sublist in responses_json for item in sublist]\n",
    "\n",
    "print(responses_json_flat)\n"
   ]
  },
  {
   "cell_type": "code",
   "execution_count": 66,
   "metadata": {},
   "outputs": [
    {
     "data": {
      "text/html": [
       "<div>\n",
       "<style scoped>\n",
       "    .dataframe tbody tr th:only-of-type {\n",
       "        vertical-align: middle;\n",
       "    }\n",
       "\n",
       "    .dataframe tbody tr th {\n",
       "        vertical-align: top;\n",
       "    }\n",
       "\n",
       "    .dataframe thead th {\n",
       "        text-align: right;\n",
       "    }\n",
       "</style>\n",
       "<table border=\"1\" class=\"dataframe\">\n",
       "  <thead>\n",
       "    <tr style=\"text-align: right;\">\n",
       "      <th></th>\n",
       "      <th>ICD-10-code</th>\n",
       "      <th>Predicted</th>\n",
       "      <th>Actual</th>\n",
       "      <th>Eval</th>\n",
       "      <th>Confidence</th>\n",
       "    </tr>\n",
       "  </thead>\n",
       "  <tbody>\n",
       "    <tr>\n",
       "      <th>0</th>\n",
       "      <td>i75.89</td>\n",
       "      <td>Other specified atherosclerosis</td>\n",
       "      <td>Atheroembolism of other site</td>\n",
       "      <td>False</td>\n",
       "      <td>HIGH</td>\n",
       "    </tr>\n",
       "    <tr>\n",
       "      <th>1</th>\n",
       "      <td>h00.11</td>\n",
       "      <td>Primary chalazion right lower eyelid</td>\n",
       "      <td>Chalazion right upper eyelid</td>\n",
       "      <td>False</td>\n",
       "      <td>HIGH</td>\n",
       "    </tr>\n",
       "    <tr>\n",
       "      <th>2</th>\n",
       "      <td>k92.0</td>\n",
       "      <td>Hematemesis</td>\n",
       "      <td>Hematemesis</td>\n",
       "      <td>True</td>\n",
       "      <td>HIGH</td>\n",
       "    </tr>\n",
       "    <tr>\n",
       "      <th>3</th>\n",
       "      <td>m35.9</td>\n",
       "      <td>Systemic involvement of connective tissue, uns...</td>\n",
       "      <td>Systemic involvement of connective tissue, uns...</td>\n",
       "      <td>True</td>\n",
       "      <td>HIGH</td>\n",
       "    </tr>\n",
       "    <tr>\n",
       "      <th>4</th>\n",
       "      <td>i85.01</td>\n",
       "      <td>Esophageal varices with bleeding</td>\n",
       "      <td>Esophageal varices with bleeding</td>\n",
       "      <td>True</td>\n",
       "      <td>HIGH</td>\n",
       "    </tr>\n",
       "  </tbody>\n",
       "</table>\n",
       "</div>"
      ],
      "text/plain": [
       "  ICD-10-code                                          Predicted  \\\n",
       "0      i75.89                    Other specified atherosclerosis   \n",
       "1      h00.11               Primary chalazion right lower eyelid   \n",
       "2       k92.0                                        Hematemesis   \n",
       "3       m35.9  Systemic involvement of connective tissue, uns...   \n",
       "4      i85.01                   Esophageal varices with bleeding   \n",
       "\n",
       "                                              Actual   Eval Confidence  \n",
       "0                       Atheroembolism of other site  False       HIGH  \n",
       "1                       Chalazion right upper eyelid  False       HIGH  \n",
       "2                                        Hematemesis   True       HIGH  \n",
       "3  Systemic involvement of connective tissue, uns...   True       HIGH  \n",
       "4                   Esophageal varices with bleeding   True       HIGH  "
      ]
     },
     "execution_count": 66,
     "metadata": {},
     "output_type": "execute_result"
    }
   ],
   "source": [
    "df = pd.json_normalize(responses_json_flat)\n",
    "df.head()"
   ]
  },
  {
   "cell_type": "code",
   "execution_count": 68,
   "metadata": {},
   "outputs": [
    {
     "data": {
      "text/plain": [
       "count      100\n",
       "unique       2\n",
       "top       True\n",
       "freq        52\n",
       "Name: Eval, dtype: object"
      ]
     },
     "execution_count": 68,
     "metadata": {},
     "output_type": "execute_result"
    }
   ],
   "source": [
    "df['Eval'].describe()"
   ]
  },
  {
   "cell_type": "code",
   "execution_count": 69,
   "metadata": {},
   "outputs": [
    {
     "data": {
      "text/plain": [
       "count      100\n",
       "unique       2\n",
       "top       HIGH\n",
       "freq        88\n",
       "Name: Confidence, dtype: object"
      ]
     },
     "execution_count": 69,
     "metadata": {},
     "output_type": "execute_result"
    }
   ],
   "source": [
    "df['Confidence'].describe()"
   ]
  },
  {
   "cell_type": "code",
   "execution_count": 71,
   "metadata": {},
   "outputs": [],
   "source": [
    "df.to_excel(\"resources/gpt-descriptions/diagnoses_stats.xlsx\")"
   ]
  }
 ],
 "metadata": {
  "kernelspec": {
   "display_name": ".venv",
   "language": "python",
   "name": "python3"
  },
  "language_info": {
   "codemirror_mode": {
    "name": "ipython",
    "version": 3
   },
   "file_extension": ".py",
   "mimetype": "text/x-python",
   "name": "python",
   "nbconvert_exporter": "python",
   "pygments_lexer": "ipython3",
   "version": "3.10.5"
  },
  "orig_nbformat": 4
 },
 "nbformat": 4,
 "nbformat_minor": 2
}
